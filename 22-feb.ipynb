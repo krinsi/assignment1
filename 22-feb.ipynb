{
 "cells": [
  {
   "cell_type": "code",
   "execution_count": 5,
   "id": "52cea2bb-253e-4457-ae86-bde944b744ba",
   "metadata": {},
   "outputs": [],
   "source": [
    "import pandas as pd"
   ]
  },
  {
   "cell_type": "code",
   "execution_count": 20,
   "id": "9cf8f414-fa85-4f68-8ac1-453618c6a675",
   "metadata": {},
   "outputs": [],
   "source": [
    "#[q-1]\n",
    "\n",
    "ser=pd.Series([4, 8, 15, 16, 23, 42])"
   ]
  },
  {
   "cell_type": "code",
   "execution_count": 21,
   "id": "0d0b91d7-b976-4808-ad21-edc5f110bb67",
   "metadata": {},
   "outputs": [
    {
     "data": {
      "text/plain": [
       "0     4\n",
       "1     8\n",
       "2    15\n",
       "3    16\n",
       "4    23\n",
       "5    42\n",
       "dtype: int64"
      ]
     },
     "execution_count": 21,
     "metadata": {},
     "output_type": "execute_result"
    }
   ],
   "source": [
    "ser"
   ]
  },
  {
   "cell_type": "code",
   "execution_count": 18,
   "id": "4439c774-e719-4972-a6e1-121e99fd2c1d",
   "metadata": {},
   "outputs": [],
   "source": [
    "#[q-2]\n",
    "l=[1,2,3,4,5,6,7,8,9,10]\n",
    "s1=pd.Series(l,)"
   ]
  },
  {
   "cell_type": "code",
   "execution_count": 19,
   "id": "ecb07dcc-0848-4f45-8c5a-61ac69fcbb52",
   "metadata": {},
   "outputs": [
    {
     "data": {
      "text/plain": [
       "0     1\n",
       "1     2\n",
       "2     3\n",
       "3     4\n",
       "4     5\n",
       "5     6\n",
       "6     7\n",
       "7     8\n",
       "8     9\n",
       "9    10\n",
       "dtype: int64"
      ]
     },
     "execution_count": 19,
     "metadata": {},
     "output_type": "execute_result"
    }
   ],
   "source": [
    "s1"
   ]
  },
  {
   "cell_type": "code",
   "execution_count": 27,
   "id": "f3fab941-57e6-4c10-9a51-e286c2b03329",
   "metadata": {},
   "outputs": [],
   "source": [
    "#[q-3]\n",
    "d={\"name\":[\"Alice\",\"Bob\",\"Classic\"],\"age\":[25,30,27],\"gender\":[\"female\",\"male\",\"female\"]}"
   ]
  },
  {
   "cell_type": "code",
   "execution_count": 28,
   "id": "5cfa929c-762c-487e-93b8-7d2eda3f4e61",
   "metadata": {},
   "outputs": [
    {
     "data": {
      "text/html": [
       "<div>\n",
       "<style scoped>\n",
       "    .dataframe tbody tr th:only-of-type {\n",
       "        vertical-align: middle;\n",
       "    }\n",
       "\n",
       "    .dataframe tbody tr th {\n",
       "        vertical-align: top;\n",
       "    }\n",
       "\n",
       "    .dataframe thead th {\n",
       "        text-align: right;\n",
       "    }\n",
       "</style>\n",
       "<table border=\"1\" class=\"dataframe\">\n",
       "  <thead>\n",
       "    <tr style=\"text-align: right;\">\n",
       "      <th></th>\n",
       "      <th>name</th>\n",
       "      <th>age</th>\n",
       "      <th>gender</th>\n",
       "    </tr>\n",
       "  </thead>\n",
       "  <tbody>\n",
       "    <tr>\n",
       "      <th>0</th>\n",
       "      <td>Alice</td>\n",
       "      <td>25</td>\n",
       "      <td>female</td>\n",
       "    </tr>\n",
       "    <tr>\n",
       "      <th>1</th>\n",
       "      <td>Bob</td>\n",
       "      <td>30</td>\n",
       "      <td>male</td>\n",
       "    </tr>\n",
       "    <tr>\n",
       "      <th>2</th>\n",
       "      <td>Classic</td>\n",
       "      <td>27</td>\n",
       "      <td>female</td>\n",
       "    </tr>\n",
       "  </tbody>\n",
       "</table>\n",
       "</div>"
      ],
      "text/plain": [
       "      name  age  gender\n",
       "0    Alice   25  female\n",
       "1      Bob   30    male\n",
       "2  Classic   27  female"
      ]
     },
     "execution_count": 28,
     "metadata": {},
     "output_type": "execute_result"
    }
   ],
   "source": [
    "pd.DataFrame(d)"
   ]
  },
  {
   "cell_type": "code",
   "execution_count": null,
   "id": "f29e94d6-2bd0-41ed-b726-8128506f7f6f",
   "metadata": {},
   "outputs": [],
   "source": [
    "#[4]:\n",
    "-A Data Frame is a two-dimension collection of data.\n",
    "-It is a data structure where data is stored in tabular form. \n",
    "-Datasets are arranged in rows and columns; we can store multiple datasets in the data frame.\n",
    "-We can perform various arithmetic operations, such as adding column/row selection and columns/rows in the data frame.\n",
    "\n",
    "#EXAMPLE:\n",
    "import pandas as pd  \n",
    "  \n",
    "# Calling DataFrame constructor  \n",
    "df = pd.DataFrame()  \n",
    "  \n",
    "print(df)  "
   ]
  },
  {
   "cell_type": "code",
   "execution_count": null,
   "id": "8421f57c-dfb9-4992-a6b3-3086b6434e82",
   "metadata": {},
   "outputs": [],
   "source": [
    "#[5]:\n",
    "-Apply Function in Pandas\n",
    "-Dropping columns in the data.\n",
    "-Dropping rows in the data.\n",
    "-Renaming a column in the dataset.\n",
    "-Select columns with specific data types.\n",
    "-Slicing the dataset.\n",
    "\n",
    "#EXAMPLE:\n",
    "pd.read_csv(\"/n any url\")"
   ]
  },
  {
   "cell_type": "code",
   "execution_count": null,
   "id": "d2dda0d6-6341-48c4-bb57-b154bf52155d",
   "metadata": {},
   "outputs": [],
   "source": [
    "#[6]:\n",
    "Dataframe is a mutable."
   ]
  },
  {
   "cell_type": "code",
   "execution_count": 30,
   "id": "5dc38f3c-bf17-4ead-b707-595702f1f76f",
   "metadata": {},
   "outputs": [
    {
     "name": "stdout",
     "output_type": "stream",
     "text": [
      "         0      1     2\n",
      "0    Spark  22000  1000\n",
      "1  PySpark  25000  2300\n",
      "2   Hadoop  23000  1000\n"
     ]
    }
   ],
   "source": [
    "#[7]:\n",
    "\n",
    "'''\n",
    "-you can create a DataFrame from multiple Series objects by adding each series as a columns.\n",
    "-By using concat() method you can merge multiple series together into DataFrame.\n",
    "-This takes several params, for our scenario we use list that takes series to combine and axis=1 to specify merge series as columns\n",
    " instead of rows.\n",
    " \n",
    "'''\n",
    "#EXAMPLE:\n",
    "    \n",
    "import pandas as pd\n",
    "# Create pandas Series\n",
    "courses = pd.Series([\"Spark\",\"PySpark\",\"Hadoop\"])\n",
    "fees = pd.Series([22000,25000,23000])\n",
    "discount  = pd.Series([1000,2300,1000])\n",
    "\n",
    "df=pd.concat([courses,fees,discount],axis=1)\n",
    "print(df)\n"
   ]
  },
  {
   "cell_type": "code",
   "execution_count": null,
   "id": "8b5bfbb0-f459-420f-a061-84298200fbe1",
   "metadata": {},
   "outputs": [],
   "source": []
  }
 ],
 "metadata": {
  "kernelspec": {
   "display_name": "Python 3 (ipykernel)",
   "language": "python",
   "name": "python3"
  },
  "language_info": {
   "codemirror_mode": {
    "name": "ipython",
    "version": 3
   },
   "file_extension": ".py",
   "mimetype": "text/x-python",
   "name": "python",
   "nbconvert_exporter": "python",
   "pygments_lexer": "ipython3",
   "version": "3.10.8"
  }
 },
 "nbformat": 4,
 "nbformat_minor": 5
}
