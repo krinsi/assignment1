{
 "cells": [
  {
   "cell_type": "code",
   "execution_count": null,
   "id": "5b2efe2c-a9e4-422f-b6d7-883e0aae602a",
   "metadata": {},
   "outputs": [],
   "source": [
    "#[1]:\n",
    "A database is a structured collection of data that can be stored, organized, and managed in such a way that it can be easily accessed, managed, \n",
    "and updated. It allows users to store, retrieve, and manipulate data efficiently.\n",
    "\n",
    "SQL and NoSQL databases are two different types of databases with distinct architectures, features, and capabilities:\n",
    "    \n",
    "*SQL Databases:\n",
    "-SQL (Structured Query Language) databases are relational databases that store data in a structured way with predefined relationships between tables. \n",
    "-SQL databases are based on the ACID (Atomicity, Consistency, Isolation, and Durability) properties, which ensure that data remains consistent,\n",
    "even in the event of system failure.\n",
    "\n",
    "*NoSQL Databases:\n",
    "-NoSQL (Not Only SQL) databases are non-relational databases that store data in a more flexible and scalable way.\n",
    "-They do not rely on predefined schema, and data can be added and updated in real-time without interrupting the application.\n",
    "-NoSQL databases are based on the CAP (Consistency, Availability, and Partition tolerance) theorem, which guarantees high availability and \n",
    "partition tolerance at the expense of some level of consistency."
   ]
  },
  {
   "cell_type": "code",
   "execution_count": null,
   "id": "d63a72a5-0e6f-4172-a90f-6152200f0fbf",
   "metadata": {},
   "outputs": [],
   "source": [
    "#[2]:\n",
    "-DDL stands for Data Definition Language, which is a set of SQL commands used to define the structure of a database schema, create and modify \n",
    "database objects such as tables, indexes, and constraints.\n",
    "\n",
    "The following are some of the most commonly used DDL commands:\n",
    "#[1]:\n",
    "CREATE:\n",
    "The CREATE command is used to create a new database object such as a table, view, or index. \n",
    "\n",
    "#[2]:\n",
    "DROP:\n",
    "The DROP command is used to delete an existing database object.\n",
    "\n",
    "#[3]:\n",
    "ALTER:\n",
    "The ALTER command is used to modify the structure of an existing database object.\n",
    "\n",
    "#[4]:\n",
    "TRUNCATE:\n",
    "The TRUNCATE command is used to delete all data from a table without deleting the table structure."
   ]
  },
  {
   "cell_type": "code",
   "execution_count": null,
   "id": "76be081e-4455-4e01-ad02-e963e2131dca",
   "metadata": {},
   "outputs": [],
   "source": [
    "#[3]:\n",
    "DML stands for Data Manipulation Language, which is a set of SQL commands used to manipulate the data stored in a database.\n",
    "\n",
    "#[1]:\n",
    "INSERT:\n",
    "The INSERT command is used to insert new data into a table.\n",
    "\n",
    "#[2]:\n",
    "UPDATE:\n",
    "The UPDATE command is used to modify existing data in a table. \n",
    "\n",
    "#[3]:\n",
    "DELETE:\n",
    "The DELETE command is used to delete one or more rows from a table."
   ]
  },
  {
   "cell_type": "code",
   "execution_count": null,
   "id": "6fe36d3a-fbff-4a25-9bbb-ae7a8d9d8dd1",
   "metadata": {},
   "outputs": [],
   "source": [
    "#[4]:\n",
    "-DQL stands for Data Query Language, which is a set of SQL commands used to retrieve and manipulate data from a database. \n",
    "-The most commonly used DQL command is SELECT, which is used to retrieve data from one or more tables.\n",
    "#syntax:\n",
    "SELECT column1, column2, ... FROM table_name WHERE condition;\n",
    "\n",
    "#Ex:\n",
    "SELECT * FROM customers;"
   ]
  },
  {
   "cell_type": "code",
   "execution_count": null,
   "id": "0d7f1236-809d-4ea1-87f3-1d46b1885097",
   "metadata": {},
   "outputs": [],
   "source": [
    "#[5]:\n",
    "#primary key:\n",
    "A primary key is used to ensure data in the specific column is unique. \n",
    "#foreign key:\n",
    "A foreign key is a column or group of columns in a relational database table that provides a link between data in two tables."
   ]
  },
  {
   "cell_type": "code",
   "execution_count": null,
   "id": "753dee7a-1c6f-4178-8e1d-0ca6c1967767",
   "metadata": {},
   "outputs": [],
   "source": [
    "#[6]:\n",
    "import mysql.connector\n",
    "# Create a connection object\n",
    "mydb = mysql.connector.connect(\n",
    "  host=\"localhost\",\n",
    "  user=\"yourusername\",\n",
    "  password=\"yourpassword\",\n",
    "  database=\"mydatabase\"\n",
    ")\n",
    "# Create a cursor object\n",
    "mycursor = mydb.cursor()\n",
    "# Use the cursor to execute a SQL query\n",
    "mycursor.execute(\"SELECT * FROM customers\")\n",
    "# Get the results of the query\n",
    "myresult = mycursor.fetchall()\n",
    "# Print the results\n",
    "for x in myresult:\n",
    "    print(x)"
   ]
  },
  {
   "cell_type": "code",
   "execution_count": null,
   "id": "3cb777a3-e501-4c87-b59f-89451128d5d9",
   "metadata": {},
   "outputs": [],
   "source": [
    "#[7]:\n"
   ]
  }
 ],
 "metadata": {
  "kernelspec": {
   "display_name": "Python 3 (ipykernel)",
   "language": "python",
   "name": "python3"
  },
  "language_info": {
   "codemirror_mode": {
    "name": "ipython",
    "version": 3
   },
   "file_extension": ".py",
   "mimetype": "text/x-python",
   "name": "python",
   "nbconvert_exporter": "python",
   "pygments_lexer": "ipython3",
   "version": "3.10.8"
  }
 },
 "nbformat": 4,
 "nbformat_minor": 5
}
