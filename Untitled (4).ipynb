{
 "cells": [
  {
   "cell_type": "code",
   "execution_count": null,
   "id": "9aaecb6a-08b0-4e04-9630-ff44f32cc7ce",
   "metadata": {},
   "outputs": [],
   "source": [
    "#[1]:\n",
    "-An exception is an event, which occurs during the execution of a program that disrupts the normal flow of the program's instructions\n",
    "-Exception occur when programmer do a logical mistake in the code.\n",
    "Suppose you write the expression like that\n",
    "#Example:\n",
    "int p = 5; \n",
    "int q = 0; \n",
    "int r = 0; \n",
    " \n",
    "r = p / q; \n",
    "\n",
    "- Syntax Errors:\n",
    "Syntax errors are perhaps the most common kind of complaint you get while you are still learning Python. Example:\n",
    "#Example:\n",
    ">>> while True print('Hello world')\n",
    " "
   ]
  },
  {
   "cell_type": "code",
   "execution_count": null,
   "id": "4aa06034-02cc-4de4-a974-d879e66d2728",
   "metadata": {},
   "outputs": [],
   "source": [
    "#[2]:\n",
    "-If an exception occurs during execution of the try clause, the exception may be handled by an except clause. \n",
    "-If the exception is not handled by an except clause, the exception is raised after the finally clause has been executed.\n",
    "#Example:\n",
    "class validateage(Exception):\n",
    "    \n",
    "    def __init__(self,msg):\n",
    "        self.msg=msg\n",
    "                        \n",
    "def validaetage(age):\n",
    "    if age<0:\n",
    "        raise validateage(\"enterrd age is negative\")  #custome mase nakhyo \n",
    "    elif age>200:\n",
    "        raise validateage(\"entered age is very high\")\n",
    "    else:\n",
    "        print(\"age is valid\")\n",
    "        \n",
    "try:\n",
    "    age = int(input(\"enter your age\"))\n",
    "    validaetage(age)\n",
    "except validateage as e:\n",
    "    print(e)"
   ]
  },
  {
   "cell_type": "code",
   "execution_count": null,
   "id": "375b2ad9-dbad-4b8e-80b3-d570e98b2afa",
   "metadata": {},
   "outputs": [],
   "source": [
    "#[3]:\n",
    "-The try and except block in Python is used to catch and handle exceptions.\n",
    "-Python executes code following the try statement as a “normal” part of the program.\n",
    "#Example:\n",
    "try:\n",
    "    f=open(\"test1.txt\",\"r\")\n",
    "    f.write(\"write in file\")\n",
    "    f.close()\n",
    "except Exception as e:\n",
    "    print(\"this is except block\",e)"
   ]
  },
  {
   "cell_type": "code",
   "execution_count": null,
   "id": "5b927dd3-4b21-438f-ba7b-dab055578fff",
   "metadata": {},
   "outputs": [],
   "source": [
    "#[4]:\n",
    "Try: This block will test the excepted error to occur\n",
    "Except:  Here you can handle the error\n",
    "Else: If there is no exception then this block will be executed\n",
    "Finally: Finally block always gets executed either exception is generated or not\n",
    "\n",
    "#Example:\n",
    "#[1]:\n",
    "try:\n",
    "    f=open(\"test.txt\",\"r\")\n",
    "except Exception as e:\n",
    "    print(\"this is except block\",e)\n",
    "    \n",
    "#[2]:\n",
    "try:\n",
    "    f=open(\"test.txt\",\"w\")\n",
    "    f.write(\"write in file\n",
    "except Exception as e:\n",
    "    print(\"this is except block\",e)\n",
    "else:                    \n",
    "    f.close()\n",
    "    print(\"once will try execute without error\")\n",
    " \n",
    "#[3]:\n",
    "finally:  \n",
    "    print(\"this is always executed\")"
   ]
  },
  {
   "cell_type": "code",
   "execution_count": 2,
   "id": "ddd7e17c-23da-49e8-bb33-1cd2ab7af019",
   "metadata": {},
   "outputs": [
    {
     "name": "stdin",
     "output_type": "stream",
     "text": [
      "Enter a number:  100\n"
     ]
    },
    {
     "name": "stdout",
     "output_type": "stream",
     "text": [
      "Eligible to Vote\n"
     ]
    }
   ],
   "source": [
    "#[5]:\n",
    "'''\n",
    "In Python, we can define custom exceptions by creating a new class that is derived from the built-in Exception class.\n",
    "#Here's the syntax to define custom exceptions.\n",
    "'''\n",
    "#Example:\n",
    "class InvalidAgeException(Exception):\n",
    "    \"Raised when the input value is less than 18\"\n",
    "    pass\n",
    "\n",
    "number = 18\n",
    "\n",
    "try:\n",
    "    input_num = int(input(\"Enter a number: \"))\n",
    "    if input_num < number:\n",
    "        raise InvalidAgeException\n",
    "    else:\n",
    "        print(\"Eligible to Vote\")\n",
    "        \n",
    "except InvalidAgeException:\n",
    "    print(\"Exception occurred: Invalid Age\")"
   ]
  },
  {
   "cell_type": "code",
   "execution_count": 3,
   "id": "237e60af-7aef-4fca-a805-c93c7f2d0f99",
   "metadata": {},
   "outputs": [],
   "source": [
    "#[6]:\n",
    "class prise(Exception):\n",
    "    \n",
    "    def __init__(self,msg):\n",
    "        self.msg=msg"
   ]
  },
  {
   "cell_type": "code",
   "execution_count": 4,
   "id": "aef6fb56-77b3-4b7e-a24e-a5b45db5088a",
   "metadata": {},
   "outputs": [],
   "source": [
    "def p1(salary):\n",
    "    if salary<0:\n",
    "        raise prise(\"enterrd age is negative\")  #custome mase nakhyo \n",
    "    elif slary>20000:\n",
    "        raise prise(\"entered age is medium\")\n",
    "     elif slary>20000:\n",
    "        raise prise(\"entered age is medium\")\n",
    "    else:\n",
    "        print(\"age is valid\")\n",
    "        \n",
    "        "
   ]
  },
  {
   "cell_type": "code",
   "execution_count": null,
   "id": "fd697d49-8889-4654-834e-dcdf6a365c5d",
   "metadata": {},
   "outputs": [],
   "source": [
    "try:\n",
    "    age = int(input(\"enter your salary\"))\n",
    "    p1(slary)\n",
    "except prise as e:\n",
    "    print(e)"
   ]
  }
 ],
 "metadata": {
  "kernelspec": {
   "display_name": "Python 3 (ipykernel)",
   "language": "python",
   "name": "python3"
  },
  "language_info": {
   "codemirror_mode": {
    "name": "ipython",
    "version": 3
   },
   "file_extension": ".py",
   "mimetype": "text/x-python",
   "name": "python",
   "nbconvert_exporter": "python",
   "pygments_lexer": "ipython3",
   "version": "3.10.8"
  }
 },
 "nbformat": 4,
 "nbformat_minor": 5
}
