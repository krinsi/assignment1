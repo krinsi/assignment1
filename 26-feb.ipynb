{
 "cells": [
  {
   "cell_type": "code",
   "execution_count": 2,
   "id": "2d11d2d9-87fe-427a-8283-7ec5915e017e",
   "metadata": {},
   "outputs": [],
   "source": [
    "import numpy as np"
   ]
  },
  {
   "cell_type": "code",
   "execution_count": 3,
   "id": "87f63b3c-6103-4bf8-a9ff-a5e8a77039f7",
   "metadata": {},
   "outputs": [],
   "source": [
    "list_ = [ '1','2','3','4','5' ]"
   ]
  },
  {
   "cell_type": "code",
   "execution_count": 4,
   "id": "7dec11fe-740d-4382-a86d-9467b31625a8",
   "metadata": {},
   "outputs": [
    {
     "data": {
      "text/plain": [
       "['1', '2', '3', '4', '5']"
      ]
     },
     "execution_count": 4,
     "metadata": {},
     "output_type": "execute_result"
    }
   ],
   "source": [
    "list_"
   ]
  },
  {
   "cell_type": "code",
   "execution_count": 5,
   "id": "f79c2811-b512-472f-9ca8-934a607a7112",
   "metadata": {},
   "outputs": [],
   "source": [
    "array_list = np.array(object = list_)"
   ]
  },
  {
   "cell_type": "code",
   "execution_count": 6,
   "id": "b6e28633-207e-4caf-a00c-c2da2dec534e",
   "metadata": {},
   "outputs": [
    {
     "data": {
      "text/plain": [
       "array(['1', '2', '3', '4', '5'], dtype='<U1')"
      ]
     },
     "execution_count": 6,
     "metadata": {},
     "output_type": "execute_result"
    }
   ],
   "source": [
    "array_list "
   ]
  },
  {
   "cell_type": "code",
   "execution_count": null,
   "id": "586c1a3e-9705-447c-97d3-6bd13d968c46",
   "metadata": {},
   "outputs": [],
   "source": [
    "#[q-1]:================================================================================\n",
    "Yes, there is a difference in the data type of the list_ and array_list variables.\n",
    "The list_ variable contains strings of numbers, whereas the array_list variable contains numerical values."
   ]
  },
  {
   "cell_type": "code",
   "execution_count": 18,
   "id": "89e460d6-cf67-4d16-834c-3838aec3c310",
   "metadata": {},
   "outputs": [],
   "source": [
    "list_ = [ '1','2','3','4','5' ]\n",
    "array_list = np.array(object = list_)"
   ]
  },
  {
   "cell_type": "code",
   "execution_count": 21,
   "id": "7dcd5b22-68b0-4fc2-8d4f-bd1dcf596561",
   "metadata": {},
   "outputs": [
    {
     "data": {
      "text/plain": [
       "list"
      ]
     },
     "execution_count": 21,
     "metadata": {},
     "output_type": "execute_result"
    }
   ],
   "source": [
    "type(list_)"
   ]
  },
  {
   "cell_type": "code",
   "execution_count": 25,
   "id": "51c47667-33ae-4857-8d73-5cd4ed0b3a5d",
   "metadata": {},
   "outputs": [
    {
     "data": {
      "text/plain": [
       "numpy.ndarray"
      ]
     },
     "execution_count": 25,
     "metadata": {},
     "output_type": "execute_result"
    }
   ],
   "source": [
    "type(array_list)"
   ]
  },
  {
   "cell_type": "code",
   "execution_count": 31,
   "id": "4cd2fdb5-6aa2-47d6-86a5-94cea9966024",
   "metadata": {},
   "outputs": [
    {
     "name": "stdout",
     "output_type": "stream",
     "text": [
      "<class 'str'>\n",
      "<class 'str'>\n",
      "<class 'str'>\n",
      "<class 'str'>\n",
      "<class 'str'>\n"
     ]
    }
   ],
   "source": [
    "#[q-2]=============================================================\n",
    "for i in list_:\n",
    "    print(type(i))"
   ]
  },
  {
   "cell_type": "code",
   "execution_count": 32,
   "id": "9a2d7439-18f3-4d6c-91b6-d2aa976fd5cf",
   "metadata": {},
   "outputs": [
    {
     "name": "stdout",
     "output_type": "stream",
     "text": [
      "<class 'numpy.str_'>\n",
      "<class 'numpy.str_'>\n",
      "<class 'numpy.str_'>\n",
      "<class 'numpy.str_'>\n",
      "<class 'numpy.str_'>\n"
     ]
    }
   ],
   "source": [
    "for i in array_list:\n",
    "    print(type(i))"
   ]
  },
  {
   "cell_type": "code",
   "execution_count": 34,
   "id": "5e06ba1e-110c-4c2a-b94c-f0f605a59cde",
   "metadata": {},
   "outputs": [],
   "source": [
    "#[q-3]============================================================\n",
    "array_list = np.array(object = list_, dtype = int)"
   ]
  },
  {
   "cell_type": "code",
   "execution_count": 35,
   "id": "49a6c385-cb3b-4dd6-8382-7345b41ca289",
   "metadata": {},
   "outputs": [
    {
     "data": {
      "text/plain": [
       "array([1, 2, 3, 4, 5])"
      ]
     },
     "execution_count": 35,
     "metadata": {},
     "output_type": "execute_result"
    }
   ],
   "source": [
    "array_list"
   ]
  },
  {
   "cell_type": "code",
   "execution_count": null,
   "id": "1b2796e0-ca7b-4d32-aaa4-91c9b57d3498",
   "metadata": {},
   "outputs": [],
   "source": [
    "-Yes, there will be a difference in the data type of the elements present in list_ and array_list when array_list is defined as\n",
    " np.array(object = list_, dtype = int).\n",
    "\n",
    "-In this case, the elements in array_list will have a data type of int, whereas in the previous case they had a data type of numpy.str_."
   ]
  },
  {
   "cell_type": "code",
   "execution_count": 36,
   "id": "643ba26b-7af0-48ee-8e02-db87963582f4",
   "metadata": {},
   "outputs": [],
   "source": [
    "num_list = [ [ 1 , 2 , 3 ] , [ 4 , 5 , 6 ] ]\n",
    "num_array = np.array(object = num_list)"
   ]
  },
  {
   "cell_type": "code",
   "execution_count": 42,
   "id": "2a586c28-7491-40ac-af5f-db260806fd0f",
   "metadata": {},
   "outputs": [
    {
     "name": "stdout",
     "output_type": "stream",
     "text": [
      "<class 'str'>\n",
      "<class 'str'>\n",
      "<class 'str'>\n",
      "<class 'str'>\n",
      "<class 'str'>\n"
     ]
    }
   ],
   "source": [
    "for i in list_:\n",
    "    print(type(i))"
   ]
  },
  {
   "cell_type": "code",
   "execution_count": 43,
   "id": "8434d163-cb08-49a0-ab4b-750520abd8c8",
   "metadata": {},
   "outputs": [
    {
     "name": "stdout",
     "output_type": "stream",
     "text": [
      "<class 'numpy.int64'>\n",
      "<class 'numpy.int64'>\n",
      "<class 'numpy.int64'>\n",
      "<class 'numpy.int64'>\n",
      "<class 'numpy.int64'>\n"
     ]
    }
   ],
   "source": [
    "for i in array_list:\n",
    "    print(type(i))"
   ]
  },
  {
   "cell_type": "code",
   "execution_count": 45,
   "id": "c2172faf-0460-4eec-b5e1-bef53384b2d3",
   "metadata": {},
   "outputs": [
    {
     "name": "stdout",
     "output_type": "stream",
     "text": [
      "<class 'int'>\n",
      "<class 'int'>\n",
      "<class 'int'>\n",
      "<class 'int'>\n",
      "<class 'int'>\n",
      "<class 'int'>\n"
     ]
    }
   ],
   "source": [
    "for i in num_list:\n",
    "    for j in i:\n",
    "        print(type(j))"
   ]
  },
  {
   "cell_type": "code",
   "execution_count": 46,
   "id": "edc09821-7d4d-48b6-a293-e77f9acf7051",
   "metadata": {},
   "outputs": [
    {
     "name": "stdout",
     "output_type": "stream",
     "text": [
      "<class 'numpy.int64'>\n",
      "<class 'numpy.int64'>\n",
      "<class 'numpy.int64'>\n",
      "<class 'numpy.int64'>\n",
      "<class 'numpy.int64'>\n",
      "<class 'numpy.int64'>\n"
     ]
    }
   ],
   "source": [
    "for i in num_array:\n",
    "    for j in i:\n",
    "        print(type(j))"
   ]
  },
  {
   "cell_type": "code",
   "execution_count": 47,
   "id": "83d780df-ec0a-4298-b8c6-2a71cc23956c",
   "metadata": {},
   "outputs": [
    {
     "data": {
      "text/plain": [
       "(2, 3)"
      ]
     },
     "execution_count": 47,
     "metadata": {},
     "output_type": "execute_result"
    }
   ],
   "source": [
    "#[q-4]=====================================================================\n",
    "num_array.shape"
   ]
  },
  {
   "cell_type": "code",
   "execution_count": 48,
   "id": "8fcb49df-3429-4632-b055-a225a1e2bb8b",
   "metadata": {},
   "outputs": [
    {
     "data": {
      "text/plain": [
       "6"
      ]
     },
     "execution_count": 48,
     "metadata": {},
     "output_type": "execute_result"
    }
   ],
   "source": [
    "num_array.size"
   ]
  },
  {
   "cell_type": "code",
   "execution_count": 53,
   "id": "71c60733-31e5-4b9d-b6e4-6cdfe26cc73c",
   "metadata": {},
   "outputs": [],
   "source": [
    "#[q-5]===================================================================\n",
    "array=np.zeros((3,3))"
   ]
  },
  {
   "cell_type": "code",
   "execution_count": 54,
   "id": "eb4e7edd-9155-4ab7-8293-7c82e6a3903c",
   "metadata": {},
   "outputs": [
    {
     "data": {
      "text/plain": [
       "array([[0., 0., 0.],\n",
       "       [0., 0., 0.],\n",
       "       [0., 0., 0.]])"
      ]
     },
     "execution_count": 54,
     "metadata": {},
     "output_type": "execute_result"
    }
   ],
   "source": [
    "array"
   ]
  },
  {
   "cell_type": "code",
   "execution_count": null,
   "id": "fa2a013f-5dd2-4ee5-9900-1fb4c5bc3f4b",
   "metadata": {},
   "outputs": [],
   "source": [
    "#[q-6]============="
   ]
  }
 ],
 "metadata": {
  "kernelspec": {
   "display_name": "Python 3 (ipykernel)",
   "language": "python",
   "name": "python3"
  },
  "language_info": {
   "codemirror_mode": {
    "name": "ipython",
    "version": 3
   },
   "file_extension": ".py",
   "mimetype": "text/x-python",
   "name": "python",
   "nbconvert_exporter": "python",
   "pygments_lexer": "ipython3",
   "version": "3.10.8"
  }
 },
 "nbformat": 4,
 "nbformat_minor": 5
}
