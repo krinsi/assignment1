{
 "cells": [
  {
   "cell_type": "code",
   "execution_count": null,
   "id": "88c33993-1562-44fd-9c8e-ab33c71c1ecd",
   "metadata": {},
   "outputs": [],
   "source": [
    "Q1. Explain the assumptions required to use ANOVA and provide examples of violations that could impact\n",
    "the validity of the results.\n",
    "Ans-\n",
    "    Analysis of Variance (ANOVA) is a statistical method used to compare means across different groups or treatments. However, ANOVA requires several assumptions to be met for the results to be valid.\n",
    "\n",
    "Assumptions required to use ANOVA:\n",
    "\n",
    "    1.Independence: The observations must be independent of each other. This means that the values of one observation should not influence the values of another observation.\n",
    "\n",
    "    2.Normality: The distribution of the residuals (the differences between the observed values and the predicted values) should be normally distributed. This assumption can be checked using a normal probability plot or a histogram of the residuals.\n",
    "\n",
    "    3.Homogeneity of variance: The variance of the residuals should be the same across all levels of the independent variable. This assumption can be checked using a plot of the residuals versus the predicted values or the independent variable.\n",
    "\n",
    "Examples of violations that could impact the validity of the results:\n",
    "\n",
    "    1.Violation of independence: If the observations are not independent of each other, then the ANOVA results may be biased. For example, if there are repeated measures on the same subjects, then the observations are not independent. In such a case, a repeated measures ANOVA may be more appropriate.\n",
    "\n",
    "    2.Violation of normality: If the residuals are not normally distributed, then the ANOVA results may be biased. For example, if the residuals are skewed or have heavy tails, then the ANOVA results may be affected. In such a case, a non-parametric test such as the Kruskal-Wallis test may be more appropriate.\n",
    "\n",
    "    3.Violation of homogeneity of variance: If the variance of the residuals is not the same across all levels of the independent variable, then the ANOVA results may be biased. For example, if the variance of the residuals increases with the level of the independent variable, then the ANOVA results may be affected. In such a case, a Welch's ANOVA or a non-parametric test such as the Brown-Forsythe test may be more appropriate.\n",
    "\n",
    "Overall, it is important to check these assumptions before using ANOVA and to choose an appropriate test if any of the assumptions are violated."
   ]
  },
  {
   "cell_type": "code",
   "execution_count": null,
   "id": "b78f0aae-ab7d-47ae-a455-7052855a1b2f",
   "metadata": {},
   "outputs": [],
   "source": [
    "Q2. What are the three types of ANOVA, and in what situations would each be used?\n",
    "Ans-\n",
    "    The three types of ANOVA are:\n",
    "\n",
    "1.One-way ANOVA: One-way ANOVA is used when we have one independent variable with three or more levels and we want to compare the means of the dependent variable across all levels of the independent variable. For example, if we want to compare the mean weight of apples across different types of soil (sandy, loamy, and clayey), we can use one-way ANOVA.\n",
    "\n",
    "2.Two-way ANOVA: Two-way ANOVA is used when we have two independent variables and we want to compare the means of the dependent variable across all levels of both independent variables. For example, if we want to compare the mean test scores of students based on both their gender and their study habits, we can use two-way ANOVA.\n",
    "\n",
    "3.Repeated measures ANOVA: Repeated measures ANOVA is used when we have repeated measures on the same individuals or objects. For example, if we want to compare the mean blood pressure of the same individuals before and after taking a medication, we can use repeated measures ANOVA.\n",
    "\n",
    "In summary, one-way ANOVA is used when we have one independent variable, two-way ANOVA is used when we have two independent variables, and repeated mea"
   ]
  },
  {
   "cell_type": "code",
   "execution_count": null,
   "id": "09e84f98-a660-4f0f-bc9f-cd0329ff5557",
   "metadata": {},
   "outputs": [],
   "source": [
    "Q3. What is the partitioning of variance in ANOVA, and why is it important to understand this concept?\n",
    "Ans-\n",
    "    The partitioning of variance in ANOVA refers to the process of dividing the total variation in the dependent variable into different sources of variation, which are associated with the independent variables or factors in the study. The total variation in the dependent variable is represented by the total sum of squares (SS), and this is partitioned into different components, including:\n",
    "\n",
    "1.The between-groups sum of squares (SSB): This represents the variation between the different groups or levels of the independent variable, and it is a measure of the effect of the independent variable on the dependent variable.\n",
    "\n",
    "2.The within-groups sum of squares (SSW): This represents the variation within each group or level of the independent variable, and it is a measure of the amount of variability that is not explained by the independent variable.\n",
    "\n",
    "3.The total sum of squares (SST): This represents the total variation in the dependent variable, regardless of the groups or levels of the independent variable.\n",
    "\n",
    "The importance of understanding the partitioning of variance in ANOVA is that it allows us to determine the extent to which the independent variable(s) explain the variability in the dependent variable. Specifically, the ratio of the between-groups sum of squares to the within-groups sum of squares (SSB/SSW) is used to calculate the F-statistic, which is used to test the significance of the effect of the independent variable(s) on the dependent variable.\n",
    "\n",
    "By understanding the partitioning of variance, we can also identify which independent variable(s) or factor(s) are most important in explaining the va"
   ]
  },
  {
   "cell_type": "code",
   "execution_count": null,
   "id": "67b10e28-79a9-4d2e-82f0-e9ee936e645d",
   "metadata": {},
   "outputs": [],
   "source": [
    "Q4. How would you calculate the total sum of squares (SST), explained sum of squares (SSE), and residual\n",
    "sum of squares (SSR) in a one-way ANOVA using Python?\n",
    "Ans-\n",
    "   To calculate the total sum of squares (SST), explained sum of squares (SSE), and residual sum of squares (SSR) in a one-way ANOVA using Python, you can use the statsmodels library.\n",
    "\n",
    "Here's an example code snippet that demonstrates how to calculate these values for a one-way ANOVA:\n",
    "\n",
    "import pandas as pd\n",
    "import statsmodels.api as sm\n",
    "from statsmodels.formula.api import ols\n",
    "\n",
    "# Load data\n",
    "df = pd.read_csv('data.csv')\n",
    "\n",
    "# Fit the model\n",
    "model = ols('y ~ group', data=df).fit()\n",
    "\n",
    "# Calculate the SST\n",
    "sst = sm.stats.anova_lm(model, typ=1)['sum_sq'][0]\n",
    "\n",
    "# Calculate the SSE\n",
    "sse = sm.stats.anova_lm(model, typ=1)['sum_sq'][1]\n",
    "\n",
    "# Calculate the SSR\n",
    "ssr = sst - sse\n",
    "\n",
    "In the above code, df is a Pandas DataFrame that contains the data for the one-way ANOVA, y is the dependent variable, and group is the independent variable. The ols function is used to fit the model, and the typ=1 argument specifies that we want to use Type I sum of squares for the ANOVA. The sm.stats.anova_lm function is used to calculate the ANOVA table, from which we extract the sum of squares for the SST, SSE, and SSR.\n",
    "\n",
    "Note that you'll need to replace 'data.csv' with the actual file path to your data file, and adjust the variable names (y and group) to match your data.\n",
    "   "
   ]
  },
  {
   "cell_type": "code",
   "execution_count": null,
   "id": "e5111c1f-b29a-4ce0-bea7-b10cfd870726",
   "metadata": {},
   "outputs": [],
   "source": [
    "Q5. In a two-way ANOVA, how would you calculate the main effects and interaction effects using Python?\n",
    "Ans-\n",
    "    To calculate the main effects and interaction effects in a two-way ANOVA using Python, you can use the statsmodels library.\n",
    "\n",
    "Here's an example code snippet that demonstrates how to calculate these effects:\n",
    "\n",
    "import pandas as pd\n",
    "import statsmodels.api as sm\n",
    "from statsmodels.formula.api import ols\n",
    "\n",
    "# Load data\n",
    "df = pd.read_csv('data.csv')\n",
    "\n",
    "# Fit the model\n",
    "model = ols('y ~ A + B + A:B', data=df).fit()\n",
    "\n",
    "# Calculate the main effects\n",
    "main_effects = model.params[['A', 'B']]\n",
    "\n",
    "# Calculate the interaction effect\n",
    "interaction_effect = model.params['A:B']\n",
    "\n",
    "# Print the results\n",
    "print('Main effects:')\n",
    "print(main_effects)\n",
    "print('Interaction effect:')\n",
    "print(interaction_effect)\n",
    "\n",
    "In the above code, df is a Pandas DataFrame that contains the data for the two-way ANOVA, y is the dependent variable, A and B are the independent variables, and A:B specifies the interaction term. The ols function is used to fit the model.\n",
    "\n",
    "After fitting the model, we extract the main effects using the params attribute of the model object. Specifically, we select the coefficients corresponding to A and B. The interaction effect is also extracted using the params attribute, but selecting the coefficient corresponding to the A:B interaction term.\n",
    "\n",
    "Note that you'll need to replace 'data.csv' with the actual file path to your data file, and adjust the variable names (y, A, and B) to match your data"
   ]
  },
  {
   "cell_type": "code",
   "execution_count": null,
   "id": "bea6fadf-88be-4fb4-b0ea-c29386822d47",
   "metadata": {},
   "outputs": [],
   "source": [
    "Q6. Suppose you conducted a one-way ANOVA and obtained an F-statistic of 5.23 and a p-value of 0.02.\n",
    "What can you conclude about the differences between the groups, and how would you interpret these\n",
    "results?\n",
    "Ans-\n",
    "    If you conducted a one-way ANOVA and obtained an F-statistic of 5.23 and a p-value of 0.02, you can conclude that there is at least one significant difference between the groups.\n",
    "\n",
    "The F-statistic is a ratio of the between-group variability to the within-group variability. A large F-statistic indicates that the between-group variability is much larger than the within-group variability, suggesting that there is a significant difference between the groups.\n",
    "\n",
    "The p-value of 0.02 indicates that there is strong evidence against the null hypothesis that there are no differences between the groups. Specifically, it means that there is only a 2% chance of observing such an extreme F-statistic under the null hypothesis.\n",
    "\n",
    "Therefore, we can conclude that there is a statistically significant difference between the groups. However, we cannot determine which specific groups "
   ]
  },
  {
   "cell_type": "code",
   "execution_count": null,
   "id": "f45c2d7d-afd9-49af-9f96-fa23bd54dafd",
   "metadata": {},
   "outputs": [],
   "source": []
  },
  {
   "cell_type": "code",
   "execution_count": null,
   "id": "88ed5753-b0eb-4f95-8a2d-5789874e379d",
   "metadata": {},
   "outputs": [],
   "source": []
  },
  {
   "cell_type": "code",
   "execution_count": null,
   "id": "d18713ac-6315-4165-b588-97ea1b7dd7bd",
   "metadata": {},
   "outputs": [],
   "source": []
  },
  {
   "cell_type": "code",
   "execution_count": null,
   "id": "1c00590f-fa39-4213-8ffa-270bd0e6dbeb",
   "metadata": {},
   "outputs": [],
   "source": []
  },
  {
   "cell_type": "code",
   "execution_count": null,
   "id": "bce4f38e-a3e1-4c67-a60f-7bafe4360286",
   "metadata": {},
   "outputs": [],
   "source": []
  }
 ],
 "metadata": {
  "kernelspec": {
   "display_name": "Python 3 (ipykernel)",
   "language": "python",
   "name": "python3"
  },
  "language_info": {
   "codemirror_mode": {
    "name": "ipython",
    "version": 3
   },
   "file_extension": ".py",
   "mimetype": "text/x-python",
   "name": "python",
   "nbconvert_exporter": "python",
   "pygments_lexer": "ipython3",
   "version": "3.10.8"
  }
 },
 "nbformat": 4,
 "nbformat_minor": 5
}
