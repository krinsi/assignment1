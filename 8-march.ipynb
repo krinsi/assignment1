{
 "cells": [
  {
   "cell_type": "code",
   "execution_count": null,
   "id": "8a4597e2-43f4-456e-b37e-8b2c7d7f262c",
   "metadata": {},
   "outputs": [],
   "source": [
    "#[q-1]:\n",
    "The Probability Density Function (PDF) is a mathematical function that describes the likelihood of a continuous random variable taking on\n",
    "a particular value within a certain range.\n",
    "\n",
    "For a continuous random variable, the PDF is defined as the derivative of the Cumulative Distribution Function (CDF).\n",
    "It gives the probability of the variable being in a particular interval by the area under the curve of the PDF within that interval.\n",
    "The PDF is non-negative for all possible values of the random variable and integrates to 1 over the range of possible values."
   ]
  },
  {
   "cell_type": "code",
   "execution_count": null,
   "id": "d5923c50-4d35-424a-ac67-fbdb10a821c4",
   "metadata": {},
   "outputs": [],
   "source": [
    "#[q-2]:\n",
    "Normal Distribution:\n",
    "    Also known as the Gaussian distribution, it is a continuous probability distribution that is commonly used to model real-world \n",
    "    phenomena such as measurements of height, weight, and IQ scores.\n",
    "\n",
    "Binomial Distribution: \n",
    "    A discrete probability distribution that describes the number of successes in a fixed number of independent trials,\n",
    "    each with the same probability of success.\n",
    "\n",
    "Poisson Distribution:\n",
    "    A discrete probability distribution that is often used to model the number of occurrences of an event in a fixed interval of time \n",
    "    or space.\n",
    "\n",
    "Exponential Distribution: \n",
    "    A continuous probability distribution that describes the time between two successive events that occur independently at a constant rate.\n",
    "\n",
    "Gamma Distribution:\n",
    "    A continuous probability distribution that is used to model the waiting time until a specified number of events occur in a Poisson\n",
    "    process."
   ]
  },
  {
   "cell_type": "code",
   "execution_count": null,
   "id": "3824de53-f6b1-4397-8197-bfce1062b06f",
   "metadata": {},
   "outputs": [],
   "source": [
    "#[q-3]:\n",
    "import math\n",
    "\n",
    "def normal_pdf(x, mu, sigma):\n",
    "   \n",
    "    coef = 1 / (sigma * math.sqrt(2 * math.pi))\n",
    "    exponent = -0.5 * ((x - mu) / sigma) ** 2\n",
    "    pdf = coef * math.exp(exponent)\n",
    "    return pdf"
   ]
  },
  {
   "cell_type": "code",
   "execution_count": null,
   "id": "c835f765-ab0f-4417-9e28-4037290f0b82",
   "metadata": {},
   "outputs": [],
   "source": [
    "#[q-4]:\n",
    "-The Binomial distribution is a probability distribution that describes the number of successes in a fixed number of independent trials,\n",
    " each with the same probability of success.\n",
    "-Here are some properties of the Binomial distribution:\n",
    "\n",
    "-The Binomial distribution is discrete, meaning that it only takes on integer values.\n",
    "\n",
    "-The Binomial distribution is characterized by two parameters: the number of trials (n) and the probability of success on each trial (p).\n",
    "\n",
    "-The mean of the Binomial distribution is equal to np, and the variance is equal to np*(1-p).\n",
    "\n",
    "-The Binomial distribution can be approximated by the Normal distribution when the number of trials is large and the probability of success\n",
    " is not too close to 0 or 1.\n",
    "\n",
    "-Two examples of events where Binomial distribution can be applied are:\n",
    "\n",
    "-Flipping a coin:\n",
    "    If you flip a fair coin (one that has an equal chance of landing heads or tails) 10 times, the number of times that the\n",
    " coin lands heads (or tails) can be modeled by a Binomial distribution with n=10 and p=0.5.\n",
    "\n",
    "-Quality control: \n",
    "    -A factory produces a large number of products, and a sample of 100 products is selected for inspection.\n",
    "    -If each product has a 95% chance of passing inspection, the number of products that pass inspection can be modeled by a Binomial \n",
    "distribution with n=100 and p=0.95."
   ]
  },
  {
   "cell_type": "code",
   "execution_count": null,
   "id": "55402aae-2bb8-4275-a99d-4ccbf5744168",
   "metadata": {},
   "outputs": [],
   "source": [
    "#[q-5]:\n",
    "import numpy as np\n",
    "import matplotlib.pyplot as plt\n",
    "\n",
    "# Set the seed for reproducibility\n",
    "np.random.seed(123)\n",
    "\n",
    "# Generate a random sample of size 1000 from a binomial distribution\n",
    "n = 1000\n",
    "p = 0.4\n",
    "sample = np.random.binomial(n, p, size=n)\n",
    "\n",
    "# Plot a histogram of the results\n",
    "plt.hist(sample, bins=30, alpha=0.5, color='b')\n",
    "plt.xlabel('Number of successes')\n",
    "plt.ylabel('Frequency')\n",
    "plt.title('Histogram of Random Sample from Binomial Distribution')\n",
    "plt.show()\n"
   ]
  },
  {
   "cell_type": "code",
   "execution_count": null,
   "id": "504d601c-c71d-492f-a733-17b023131751",
   "metadata": {},
   "outputs": [],
   "source": [
    "#[q-6]:\n",
    "import math\n",
    "\n",
    "def poisson_cdf(x, mu):\n",
    "\n",
    "    cdf = 0\n",
    "    for i in range(x+1):\n",
    "        cdf += math.exp(-mu) * mu**i / math.factorial(i)\n",
    "    return cdf"
   ]
  },
  {
   "cell_type": "code",
   "execution_count": null,
   "id": "c9d71e32-245b-4dc8-abe7-ebb5a0869803",
   "metadata": {},
   "outputs": [],
   "source": [
    "#[q-7]:\n",
    "Number of trials:\n",
    "    The Binomial distribution is used to model the number of successes in a fixed number of independent trials, while the Poisson\n",
    "distribution is used to model the number of occurrences of an event in a fixed interval of time or space.\n",
    "\n",
    "Probability of success:\n",
    "    In the Binomial distribution, the probability of success on each trial is constant and known, while in the Poisson distribution, \n",
    "the probability of an event occurring is assumed to be constant over time or space.\n",
    "\n",
    "Assumptions:\n",
    "    The Binomial distribution assumes that the trials are independent and that the probability of success is the same for each trial. \n",
    "The Poisson distribution assumes that the events are rare and occur independently of each other.\n",
    "\n",
    "Mean and variance: \n",
    "    The mean of the Binomial distribution is equal to np, where n is the number of trials and p is the probability of success on each trial.\n",
    "The variance is equal to np*(1-p). The mean and variance of the Poisson distribution are equal to lambda, where lambda is the expected \n",
    "number of occurrences in the given interval."
   ]
  },
  {
   "cell_type": "code",
   "execution_count": null,
   "id": "076ae31f-d78b-4d92-b564-2fede9be445d",
   "metadata": {},
   "outputs": [],
   "source": [
    "#[q-8]:\n",
    "import numpy as np\n",
    "\n",
    "# Set the seed for reproducibility\n",
    "np.random.seed(123)\n",
    "\n",
    "# Generate a random sample of size 1000 from a Poisson distribution with mean 5\n",
    "sample = np.random.poisson(lam=5, size=1000)\n",
    "\n",
    "# Calculate the sample mean and variance\n",
    "sample_mean = np.mean(sample)\n",
    "sample_var = np.var(sample, ddof=1)\n",
    "\n",
    "# Print the results\n",
    "print(\"Sample Mean:\", sample_mean)\n",
    "print(\"Sample Variance:\", sample_var)"
   ]
  },
  {
   "cell_type": "code",
   "execution_count": null,
   "id": "3e8ac7be-e0ef-49dd-82af-d25961c638a8",
   "metadata": {},
   "outputs": [],
   "source": [
    "#[q-9]:\n",
    "mean = n*p\n",
    "variance = n*p*(1-p)\n",
    "\n",
    "-where n is the number of trials, and p is the probability of success on each trial.\n",
    "-The mean represents the expected number of successes in n trials, and the variance measures how spread out the distribution of successes is\n",
    "around the mean.\n",
    "\n",
    "-In the Poisson distribution, the mean and variance are both equal to lambda, which is the expected number of occurrences in a fixed \n",
    "interval of time or space. \n",
    "-The relationship between the mean and variance in the Poisson distribution can be expressed as:\n",
    "    \n",
    "-mean = variance = lambda\n",
    "\n",
    "-This means that the Poisson distribution has a fixed and equal mean and variance, which makes it a useful model for situations where the\n",
    "rate of occurrence of events is constant over time or space, and the events occur independently of each other.\n",
    "\n",
    "-In both distributions, the relationship between the mean and variance is important because it provides information about the spread of\n",
    "the distribution. \n",
    "-When the variance is close to the mean, the distribution is relatively concentrated around the mean, while when the variance is much larger\n",
    "than the mean, the distribution is more spread out."
   ]
  },
  {
   "cell_type": "code",
   "execution_count": null,
   "id": "4098e5c2-5d9a-4a78-acd2-a4fc4a0cf3ee",
   "metadata": {},
   "outputs": [],
   "source": [
    "#[q-10]:\n"
   ]
  }
 ],
 "metadata": {
  "kernelspec": {
   "display_name": "Python 3 (ipykernel)",
   "language": "python",
   "name": "python3"
  },
  "language_info": {
   "codemirror_mode": {
    "name": "ipython",
    "version": 3
   },
   "file_extension": ".py",
   "mimetype": "text/x-python",
   "name": "python",
   "nbconvert_exporter": "python",
   "pygments_lexer": "ipython3",
   "version": "3.10.8"
  }
 },
 "nbformat": 4,
 "nbformat_minor": 5
}
