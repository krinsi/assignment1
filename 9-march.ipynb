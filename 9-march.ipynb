{
 "cells": [
  {
   "cell_type": "code",
   "execution_count": null,
   "id": "3276149b-10dc-4fe1-8645-4ed717682c1a",
   "metadata": {},
   "outputs": [],
   "source": [
    "#[q-1]:\n",
    "-The Probability Mass Function (PMF) and Probability Density Function (PDF) are both mathematical functions that describe the probability \n",
    "distribution of a random variable.\n",
    "\n",
    "-The PMF is used for discrete random variables, and it gives the probability of each possible value that the random variable can take.\n",
    "-For example, consider a fair six-sided die.\n",
    "-The PMF of this die would assign a probability of 1/6 to each of the six possible outcomes (rolling a 1, 2, 3, 4, 5, or 6).\n",
    "-The PMF is often represented as a table or a graph, with the possible values of the random variable on the x-axis and the corresponding\n",
    "probabilities on the y-axis.\n",
    "\n",
    "-The PDF, on the other hand, is used for continuous random variables, and it gives the probability density of each possible value of the\n",
    "random variable. \n",
    "-The probability density is not the probability itself, but rather the probability per unit of the variables scale.\n",
    "-The area under the PDF curve between two points gives the probability that the random variable falls within that range. \n",
    "-For example, consider a normal distribution with mean 0 and standard deviation \n",
    "-1. The PDF of this distribution is the famous bell-shaped curve. \n",
    "-The probability that a value drawn from this distribution falls between -1 and 1 is given by the area under the curve between -1 and 1.\n",
    "-This probability can be calculated using integration."
   ]
  },
  {
   "cell_type": "code",
   "execution_count": null,
   "id": "b23723ff-85d9-4d03-b348-03363cbeb8fa",
   "metadata": {},
   "outputs": [],
   "source": [
    "#[q-2]:\n",
    "-The Cumulative Density Function (CDF) is a function that describes the cumulative probability distribution of a random variable.\n",
    "-The CDF gives the probability that a random variable takes a value less than or equal to a certain value. \n",
    "-It is defined for both discrete and continuous random variables.\n",
    "\n",
    "-For a discrete random variable, the CDF is a step function that increases by the probability of each possible value of the random variable.\n",
    "-For example, consider a fair six-sided die.\n",
    "-The CDF of this die would start at 0 and increase by 1/6 at each possible value of the die (rolling a 1, then 1/6.                                                                                       then 2/6=1/3, etc.).\n",
    "\n",
    "-For a continuous random variable, the CDF is a smooth function that increases from 0 to 1 as the value of the random variable increases.\n",
    "-For example, consider a normal distribution with mean 0 and standard deviation \n",
    "-1. The CDF of this distribution gives the probability that a value drawn from this distribution is less than or equal to a certain value.\n",
    "-The CDF is a smooth curve that starts at 0 for the smallest possible value of the random variable and approaches 1 for the largest possible\n",
    "value.\n",
    "\n",
    "-The CDF is used for a variety of purposes, including hypothesis testing and confidence interval calculations.\n",
    "-It can also be used to calculate the probability of a range of values by taking the difference between the values of the CDF at the upper\n",
    "and lower bounds of the range.\n",
    "-Additionally, the CDF can be used to generate random numbers from a particular distribution, by inverting the CDF and using a uniform \n",
    "random number generator.\n"
   ]
  },
  {
   "cell_type": "code",
   "execution_count": null,
   "id": "20bd270a-510d-463c-85a7-f7323bdceb48",
   "metadata": {},
   "outputs": [],
   "source": [
    "#[q-3]:\n",
    "-The normal distribution is commonly used as a model for a wide range of real-world phenomena.\n",
    "-Some examples include:\n",
    "\n",
    "-Heights of individuals in a population: \n",
    "    The normal distribution can be used to model the heights of individuals in a population, with the mean and standard deviation \n",
    "reflecting the average height and the variation around that average.\n",
    "\n",
    "-Errors in measurements:\n",
    "    The normal distribution can be used to model errors in measurements, with the mean reflecting the expected value of the measurement \n",
    "and the standard deviation reflecting the degree of variation in the measurements.\n",
    "\n",
    "-IQ scores: \n",
    "    The normal distribution can be used to model IQ scores, with the mean reflecting the average IQ and the standard deviation reflecting\n",
    "the degree of variation in IQ scores.\n",
    "\n",
    "-Financial returns: \n",
    "    The normal distribution can be used to model financial returns, with the mean reflecting the expected return and the standard \n",
    "deviation\\reflecting the volatility of the returns.\n",
    "\n",
    "-The shape of the normal distribution is determined by its two parameters: \n",
    "    the mean and the standard deviation. \n",
    "    The mean is the center of the distribution, and the standard deviation is a measure of the spread or variability of the distribution.\n",
    "    The higher the standard deviation, the wider the distribution and the flatter the peak. Conversely, the lower the standard deviation,\n",
    "the narrower the distribution and the higher the peak.\n",
    "The mean and standard deviation together determine the symmetry and shape of the bell curve that characterizes the normal distribution.\n",
    "A larger mean shifts the curve to the right, while a smaller mean shifts it to the left.\n",
    "A larger standard deviation flattens the curve and spreads it out, while a smaller standard deviation makes the curve taller and more narrow\n",
    "."
   ]
  },
  {
   "cell_type": "code",
   "execution_count": null,
   "id": "68e44013-0e87-4503-b8ab-793921e631a3",
   "metadata": {},
   "outputs": [],
   "source": [
    "#[q-4]:\n",
    "Central Limit Theorem: \n",
    "    The normal distribution plays a key role in the Central Limit Theorem, which states that the sample mean of any independent, \n",
    "identically distributed random variables will be approximately normally distributed for large sample sizes.\n",
    "    This theorem is a fundamental concept in statistics and allows for many inferential techniques to be used.\n",
    "\n",
    "Data Analysis: \n",
    "    The normal distribution is often used in data analysis to describe the distribution of continuous data. \n",
    "    It is particularly useful for analyzing data that is symmetric around the mean and has a fixed amount of variation.\n",
    "\n",
    "Hypothesis Testing: \n",
    "    Many hypothesis testing procedures, such as the t-test and the ANOVA, are based on the assumption of normality. \n",
    "    Therefore, the normal distribution is an important tool for hypothesis testing in statistics.\n",
    "\n",
    "Some real-life examples where the normal distribution can be observed include:\n",
    "\n",
    "Heights of individuals in a population\n",
    "Weights of objects produced by a factory\n",
    "IQ scores of a population\n",
    "Blood pressure readings of a patient population\n",
    "Scores on standardized tests, such as the SAT or ACT.\n"
   ]
  },
  {
   "cell_type": "code",
   "execution_count": null,
   "id": "66cc3a82-1d00-49d6-a758-91427e23c896",
   "metadata": {},
   "outputs": [],
   "source": [
    "#[q-5]:\n",
    "-Bernoulli distribution is a discrete probability distribution that describes the outcome of a single binary experiment,\n",
    " where there are only two possible outcomes, typically labeled as \"success\" or \"failure\". \n",
    "-The Bernoulli distribution is characterized by a single parameter, p, which represents the probability of a success in a single trial.\n",
    "\n",
    "-For example, consider a coin toss where we define \"heads\" as a success and \"tails\" as a failure.\n",
    "-The Bernoulli distribution can be used to model the probability of getting heads (success) in a single coin toss.\n",
    "\n",
    "-The Bernoulli distribution differs from the binomial distribution in that the binomial distribution describes the probability of \n",
    " obtaining a specified number of successes in a fixed number of independent Bernoulli trials.\n",
    "-Specifically, the binomial distribution is the sum of independent and identically distributed Bernoulli random variables. \n",
    "-The binomial distribution is characterized by two parameters: n, the number of trials, and p, the probability of success in each trial.\n",
    "\n",
    "-For example, consider the scenario where we want to calculate the probability of getting exactly 3 heads in 5 coin tosses.\n",
    "-In this case, we can use the binomial distribution, where n = 5 and p = 0.5 (assuming a fair coin).\n",
    "-Each coin toss is an independent Bernoulli trial, and the binomial distribution gives the probability of obtaining 3 successes (heads) in\n",
    "5 trials.\n",
    "\n"
   ]
  },
  {
   "cell_type": "code",
   "execution_count": null,
   "id": "2d49adb3-bd0a-47bb-bb29-613a513c3876",
   "metadata": {},
   "outputs": [],
   "source": [
    "#[q-6]:\n",
    "-To find the probability that a randomly selected observation from a normal distribution with mean 50 and standard deviation 10\n",
    "will be greater than 60, we need to use the standard normal distribution and find the corresponding z-score and use the z-table to \n",
    "find the probability.\n",
    "\n",
    "-First, we need to standardize the value of 60 by subtracting the mean and dividing by the standard deviation:\n",
    "\n",
    "-z = (60 - 50) / 10 = 1\n",
    "\n",
    "-We can interpret this as saying that 60 is one standard deviation above the mean of 50.\n",
    "\n",
    "-Next, we look up the probability of a z-score of 1 using a standard normal distribution table or calculator.\n",
    "This probability is approximately 0.8413.\n",
    "\n",
    "Therefore, the probability that a randomly selected observation from the given normal distribution will be greater than 60 is approximately 0.8413 or 84.13%."
   ]
  },
  {
   "cell_type": "code",
   "execution_count": 1,
   "id": "89c483ab-4d75-472c-900e-14a11c54a3d8",
   "metadata": {},
   "outputs": [],
   "source": [
    "#[q-7]:\n",
    "-The uniform distribution is a probability distribution that describes a situation where every value in a given interval has an equal \n",
    "chance of being observed.\n",
    "-In other words, the probability of observing any particular value in the interval is the same as the probability of observing any other value in the interval.\n",
    "\n",
    "-For example, consider rolling a fair six-sided die. \n",
    "-The outcome of this experiment can be modeled using a uniform distribution because each of the six possible outcomes (1, 2, 3, 4, 5, and 6)\n",
    "has an equal chance of being observed. The probability of rolling a 1, for instance, is 1/6, and the probability of rolling any other number is also 1/6."
   ]
  },
  {
   "cell_type": "code",
   "execution_count": null,
   "id": "e541c915-a078-4d37-bdcf-bc909851bd8b",
   "metadata": {},
   "outputs": [],
   "source": [
    "#[q-8]:\n",
    "The z-score (also known as the standard score) is a statistical measurement that indicates how many standard deviations an observation or data point is above or below \n",
    "the mean of a distribution. It is calculated by subtracting the mean of the distribution from the observation, and then dividing by the standard deviation.\n",
    "\n",
    "The formula for the z-score is:\n",
    "\n",
    "z = (x - μ) / σ\n",
    "\n",
    "where x is the value of the observation, μ is the mean of the distribution, and σ is the standard deviation of the distribution.\n",
    "\n",
    "The importance of the z-score is that it allows us to standardize data from different distributions and compare them on a common scale. \n",
    "This is particularly useful when working with data that have different units or scales, or when comparing data from different populations."
   ]
  },
  {
   "cell_type": "code",
   "execution_count": null,
   "id": "3fb580b5-7908-43c8-9142-046ae2065d71",
   "metadata": {},
   "outputs": [],
   "source": [
    "#[q-9]:\n",
    "The Central Limit Theorem (CLT) is a fundamental concept in probability theory and statistics that describes the behavior of sample means of large-sized\n",
    "samples drawn from any distribution, provided that the distribution has a finite mean and variance.\n",
    "\n",
    "In simpler terms, the Central Limit Theorem states that as the sample size increases, the distribution of the sample means approaches a normal distribution,\n",
    "regardless of the shape of the original population distribution.\n",
    "\n",
    "The significance of the Central Limit Theorem is that it allows us to use the normal distribution as an approximation for many statistical calculations\n",
    ", even when the underlying population distribution is non-normal. This is important in practice because the normal distribution is well understood and has many \n",
    "convenient properties that allow us to make accurate inferences about population parameters based on sample statistics.\n",
    "\n"
   ]
  },
  {
   "cell_type": "code",
   "execution_count": null,
   "id": "33417d93-15a9-4719-9b71-36efed19eb23",
   "metadata": {},
   "outputs": [],
   "source": [
    "#[q-10]:\n"
   ]
  }
 ],
 "metadata": {
  "kernelspec": {
   "display_name": "Python 3 (ipykernel)",
   "language": "python",
   "name": "python3"
  },
  "language_info": {
   "codemirror_mode": {
    "name": "ipython",
    "version": 3
   },
   "file_extension": ".py",
   "mimetype": "text/x-python",
   "name": "python",
   "nbconvert_exporter": "python",
   "pygments_lexer": "ipython3",
   "version": "3.10.8"
  }
 },
 "nbformat": 4,
 "nbformat_minor": 5
}
