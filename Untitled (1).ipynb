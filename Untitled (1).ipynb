{
 "cells": [
  {
   "cell_type": "code",
   "execution_count": null,
   "id": "d2a9a925-b255-490c-a27c-cbc3a4824265",
   "metadata": {},
   "outputs": [],
   "source": []
  },
  {
   "cell_type": "code",
   "execution_count": null,
   "id": "d58105ae-4561-4d62-9246-095a375f9433",
   "metadata": {},
   "outputs": [],
   "source": [
    "#[1]:\n",
    "-Oops:\n",
    "    Abstraction is the process of hiding the internal details of an application from the outer world.\n",
    "    Abstraction is used to describe things in simple terms. \n",
    "    It’s used to create a boundary between the application and the client programs.\n",
    "-example:\n",
    "    "
   ]
  },
  {
   "cell_type": "code",
   "execution_count": 2,
   "id": "d9eac176-4739-40aa-a01d-6dc5c57cb80c",
   "metadata": {},
   "outputs": [],
   "source": [
    "# Python program demonstrate  \n",
    "# abstract base class work   \n",
    "from abc import ABC, abstractmethod   \n",
    "class Car(ABC):   \n",
    "    def mileage(self):   \n",
    "        pass  \n",
    "  \n",
    "class Tesla(Car):   \n",
    "    def mileage(self):   \n",
    "        print(\"The mileage is 30kmph\")   \n",
    "class Suzuki(Car):   \n",
    "    def mileage(self):   \n",
    "        print(\"The mileage is 25kmph \")   \n",
    "class Duster(Car):   \n",
    "     def mileage(self):   \n",
    "          print(\"The mileage is 24kmph \")   \n",
    "  \n",
    "class Renault(Car):   \n",
    "    def mileage(self):   \n",
    "            print(\"The mileage is 27kmph \")   "
   ]
  },
  {
   "cell_type": "code",
   "execution_count": null,
   "id": "5f82b4cf-ebce-45fe-9f90-35d7db4feec8",
   "metadata": {},
   "outputs": [],
   "source": [
    "#[2]:\n",
    "-difference with abstraction and encapsulation.\n",
    "Abstraction\n",
    "\t1. Encapsulation is the process or method for containing information.  \n",
    "\t2. During encapsulation, issues are resolved at the implementation level.  \n",
    "\t3.The focus of encapsulation is “how” it should be done.\n",
    "\t4. Encapsulation is a way of hiding data in a single entity or unit and a way of protecting information from the outside world. \t\n",
    "    5. Encapsulation can be implemented using access modifiers, i.e. private, protected, public. "
   ]
  },
  {
   "cell_type": "code",
   "execution_count": null,
   "id": "fe6212e2-aea7-4c3e-8496-1a0c17a0dc13",
   "metadata": {},
   "outputs": [],
   "source": [
    "-Encapsulation.\n",
    "1. An abstraction is a process or method of obtaining information. \n",
    "2. Abstractions solve problems at the design or interface level. \n",
    "3.The focus of abstraction is “what” to do."
   ]
  },
  {
   "cell_type": "code",
   "execution_count": null,
   "id": "f468137d-f12f-4767-8d6d-2b34985bb83b",
   "metadata": {},
   "outputs": [],
   "source": [
    "Ex:\n",
    "    encapsulation = data hiding + abstraction"
   ]
  },
  {
   "cell_type": "code",
   "execution_count": null,
   "id": "acfb2032-0c68-4258-82cc-b50b7159b6cf",
   "metadata": {},
   "outputs": [],
   "source": [
    "#[3]:\n",
    "#what is abc module in python.\n",
    "This module provides the infrastructure for defining abstract base classes (ABCs) in Python, as outlined in PEP 3119; \n",
    "see the PEP for why this was added to Python. \n",
    "(See also PEP 3141 and the numbers module regarding a type hierarchy for numbers based on ABCs.)\n",
    "#why it is uused.\n",
    "-Why we need abstraction When you do designs, you will not talk about implementations. \n",
    "You say If you give these parameters to this method it will give these output.\n",
    "We hide the internal implementation of the method and talk about what it will do so this is an abstraction."
   ]
  },
  {
   "cell_type": "code",
   "execution_count": null,
   "id": "1c32cbf3-ebe8-4c76-b48f-c6a6ea3c702d",
   "metadata": {},
   "outputs": [],
   "source": [
    "#[4]:\n",
    "#how can we achieve data abstraction.\n",
    "The process by which data and functions are defined in such a way that only essential details can be seen and unnecessary implementations\n",
    "are hidden is called Data Abstraction.\n",
    "\n",
    "The main focus of data abstraction is to separate the interface and the implementation of the program.\n",
    "\n",
    "Abstraction: Is usually done to provide polymorphic access to a set of classes. \n",
    "An abstract class cannot be instantiated thus another class will have to derive from it to create a more concrete representation."
   ]
  },
  {
   "cell_type": "code",
   "execution_count": null,
   "id": "d6f38594-ed6e-4261-9b94-3fae6271b973",
   "metadata": {},
   "outputs": [],
   "source": [
    "#[5]:\n",
    "#can we create an instance of an abstract class.\n",
    "An abstract class is a class that is declared abstract—it may or may not include abstract methods. \n",
    "Abstract classes cannot be instantiated, but they can be subclassed.\n",
    "\n",
    "An abstract method is a method that is declared without an implementation (without braces, and followed by a semicolon), like this:\n",
    "\n",
    "abstract void moveTo(double deltaX, double deltaY);\n",
    "If a class includes abstract methods, then the class itself must be declared abstract, as in:\n",
    "#example:\n",
    "public abstract class GraphicObject {\n",
    "   // declare fields\n",
    "   // declare nonabstract methods\n",
    "   abstract void draw();\n",
    "}"
   ]
  },
  {
   "cell_type": "code",
   "execution_count": null,
   "id": "7844472e-2710-4120-b5ea-5b387eb96a09",
   "metadata": {},
   "outputs": [],
   "source": []
  },
  {
   "cell_type": "code",
   "execution_count": null,
   "id": "326cb136-7cae-40ed-a7be-37911ea5e925",
   "metadata": {},
   "outputs": [],
   "source": []
  }
 ],
 "metadata": {
  "kernelspec": {
   "display_name": "Python 3 (ipykernel)",
   "language": "python",
   "name": "python3"
  },
  "language_info": {
   "codemirror_mode": {
    "name": "ipython",
    "version": 3
   },
   "file_extension": ".py",
   "mimetype": "text/x-python",
   "name": "python",
   "nbconvert_exporter": "python",
   "pygments_lexer": "ipython3",
   "version": "3.10.8"
  }
 },
 "nbformat": 4,
 "nbformat_minor": 5
}
