{
 "cells": [
  {
   "cell_type": "raw",
   "id": "09a953b7-b0dc-41d7-928c-ffd50673d020",
   "metadata": {},
   "source": [
    "Q1. What are the three measures of central tendency?"
   ]
  },
  {
   "cell_type": "code",
   "execution_count": null,
   "id": "64258c7d-ad4a-4b8f-8f66-957b96af9861",
   "metadata": {},
   "outputs": [],
   "source": [
    "The three measures of central tendency are:\n",
    "\n",
    "Mean:\n",
    "    The mean is the average of a set of numbers. \n",
    "    It is calculated by adding up all the numbers in the set and then dividing by the total number of values.\n",
    "\n",
    "Median: \n",
    "    The median is the middle value in a set of numbers when they are arranged in order.\n",
    "    If there is an even number of values, the median is the average of the two middle values.\n",
    "\n",
    "Mode: \n",
    "    The mode is the value that occurs most frequently in a set of numbers.\n",
    "    If there is no value that occurs more than once, then there is no mode. If there are multiple values that occur with the same frequency,\n",
    "    then there are multiple modes."
   ]
  },
  {
   "cell_type": "markdown",
   "id": "e70ff1cf-dc51-49d2-8dbb-e51209344bef",
   "metadata": {},
   "source": [
    "q-2:What is the difference between the mean, median, and mode? How are they used to measure the\n",
    "central tendency of a dataset?"
   ]
  },
  {
   "cell_type": "code",
   "execution_count": null,
   "id": "11fea095-9d99-4694-aa9e-311eb205b0c7",
   "metadata": {},
   "outputs": [],
   "source": [
    "-The mean, median, and mode are three different measures of central tendency, and each has its own strengths and weaknesses in measuring \n",
    " the central tendency of a dataset.\n",
    "\n",
    "-The mean is the most commonly used measure of central tendency.\n",
    "-It is calculated by adding up all the values in a dataset and then dividing by the total number of values.\n",
    "-The mean is sensitive to extreme values, which can skew the result, so it is not always the best measure to use. \n",
    "-However, when the data is normally distributed, the mean is an appropriate measure of central tendency.\n",
    "\n",
    "-The median is the middle value in a dataset when the values are arranged in order. \n",
    "-The median is less sensitive to extreme values than the mean, so it can be a better measure of central tendency for skewed data.\n",
    "-The median is also an appropriate measure of central tendency when the data is ordinal or interval in nature.\n",
    "\n",
    "-The mode is the value that occurs most frequently in a dataset.\n",
    "-The mode is useful for identifying the most common value in a dataset, but it is not always a good measure of central tendency because\n",
    " it can be affected by outliers and may not provide a representative value for the entire dataset."
   ]
  },
  {
   "cell_type": "code",
   "execution_count": null,
   "id": "f52410af-6de4-4fa8-ba31-9a868bcac05c",
   "metadata": {},
   "outputs": [],
   "source": [
    "q-3:Measure the three measures of central tendency for the given height data:\n",
    "[178,177,176,177,178.2,178,175,179,180,175,178.9,176.2,177,172.5,178,176.5]"
   ]
  },
  {
   "cell_type": "code",
   "execution_count": 1,
   "id": "9d4c93dd-0d96-4053-88f0-468884441eb1",
   "metadata": {},
   "outputs": [],
   "source": [
    "import numpy as np"
   ]
  },
  {
   "cell_type": "code",
   "execution_count": 2,
   "id": "4cbf18d8-fa34-4108-af45-59a7147545c0",
   "metadata": {},
   "outputs": [
    {
     "data": {
      "text/plain": [
       "177.01875"
      ]
     },
     "execution_count": 2,
     "metadata": {},
     "output_type": "execute_result"
    }
   ],
   "source": [
    "d=[178,177,176,177,178.2,178,175,179,180,175,178.9,176.2,177,172.5,178,176.5]\n",
    "np.mean(d)"
   ]
  },
  {
   "cell_type": "code",
   "execution_count": 3,
   "id": "89186c44-b862-4246-aee8-1ab9176df178",
   "metadata": {},
   "outputs": [
    {
     "data": {
      "text/plain": [
       "177.0"
      ]
     },
     "execution_count": 3,
     "metadata": {},
     "output_type": "execute_result"
    }
   ],
   "source": [
    "np.median(d)"
   ]
  },
  {
   "cell_type": "code",
   "execution_count": 7,
   "id": "242fb992-0a9b-40ee-982c-d797782bb0a4",
   "metadata": {},
   "outputs": [],
   "source": [
    "from scipy import stats"
   ]
  },
  {
   "cell_type": "code",
   "execution_count": 8,
   "id": "805b65b6-83f6-4daa-b951-2e028c377bbc",
   "metadata": {},
   "outputs": [
    {
     "name": "stderr",
     "output_type": "stream",
     "text": [
      "/tmp/ipykernel_138/3857837850.py:1: FutureWarning: Unlike other reduction functions (e.g. `skew`, `kurtosis`), the default behavior of `mode` typically preserves the axis it acts along. In SciPy 1.11.0, this behavior will change: the default value of `keepdims` will become False, the `axis` over which the statistic is taken will be eliminated, and the value None will no longer be accepted. Set `keepdims` to True or False to avoid this warning.\n",
      "  stats.mode(d)\n"
     ]
    },
    {
     "data": {
      "text/plain": [
       "ModeResult(mode=array([177.]), count=array([3]))"
      ]
     },
     "execution_count": 8,
     "metadata": {},
     "output_type": "execute_result"
    }
   ],
   "source": [
    "stats.mode(d)"
   ]
  },
  {
   "cell_type": "code",
   "execution_count": null,
   "id": "e752bb3f-fb29-4bd0-b729-1a1107caea23",
   "metadata": {},
   "outputs": [],
   "source": [
    "q-4:Find the standard deviation for the given data:\n",
    "[178,177,176,177,178.2,178,175,179,180,175,178.9,176.2,177,172.5,178,176.5]"
   ]
  },
  {
   "cell_type": "code",
   "execution_count": 9,
   "id": "2f083751-ea6e-45be-8989-446bea71117e",
   "metadata": {},
   "outputs": [],
   "source": [
    "d=[178,177,176,177,178.2,178,175,179,180,175,178.9,176.2,177,172.5,178,176.5]"
   ]
  },
  {
   "cell_type": "code",
   "execution_count": 10,
   "id": "03993bcc-9ec1-4702-9172-203845f052f5",
   "metadata": {},
   "outputs": [
    {
     "data": {
      "text/plain": [
       "1.7885814036548633"
      ]
     },
     "execution_count": 10,
     "metadata": {},
     "output_type": "execute_result"
    }
   ],
   "source": [
    "np.std(d)"
   ]
  },
  {
   "cell_type": "code",
   "execution_count": null,
   "id": "7a14eac9-b4a4-4c7f-bc95-1844d5e87544",
   "metadata": {},
   "outputs": [],
   "source": [
    "q-5:How are measures of dispersion such as range, variance, and standard deviation used to describe\n",
    "the spread of a dataset? Provide an example."
   ]
  },
  {
   "cell_type": "code",
   "execution_count": null,
   "id": "2b8bffe1-8f75-4ab8-976c-5ba0c7137eb8",
   "metadata": {},
   "outputs": [],
   "source": [
    "-Measures of dispersion such as range, variance, and standard deviation are used to describe the spread or variability of a dataset.\n",
    "-These measures provide information about how the data is distributed around the central tendency measure, such as mean or median.\n",
    "\n",
    "-Range is the difference between the highest and lowest values in a dataset. It gives an indication of the total spread of the data.\n",
    "-However, it can be sensitive to outliers, and it doesnt provide any information about how the data is distributed within that range.\n",
    "\n",
    "For example, consider the following dataset representing the number of hours that a group of students studied for an exam: 3, 5, 6, 7, 8, 9.\n",
    "\n",
    "The mean of this dataset is (3 + 5 + 6 + 7 + 8 + 9) / 6 = 6.3 hours.\n",
    "\n",
    "To calculate the range, we subtract the minimum value from the maximum value: 9 - 3 = 6.\n",
    "\n",
    "To calculate the variance, we first subtract the mean from each data point and square the differences: \n",
    "    (3 - 6.3)^2, (5 - 6.3)^2, (6 - 6.3)^2, (7 - 6.3)^2, (8 - 6.3)^2, (9 - 6.3)^2.\n",
    "    We then add up these squared differences and divide by the number of data points minus one (6 - 1 = 5): \n",
    "        (2.89 + 0.49 + 0.09 + 0.49 + 1.69 + 6.89) / 5 = 2.13.\n"
   ]
  },
  {
   "cell_type": "code",
   "execution_count": null,
   "id": "b4caacd0-d217-434d-a400-549da6c13737",
   "metadata": {},
   "outputs": [],
   "source": [
    "q-6:What is a Venn diagram?"
   ]
  },
  {
   "cell_type": "code",
   "execution_count": null,
   "id": "e3b17164-94dc-4e3f-b5b2-bfbd27997d20",
   "metadata": {},
   "outputs": [],
   "source": [
    "-A Venn diagram is a visual representation of sets, often used in mathematics and statistics to illustrate relationships between\n",
    " different groups of items or concepts.\n",
    "-It is named after the English logician and philosopher John Venn, who first introduced the concept in the late 19th century.\n",
    "\n",
    "-A Venn diagram consists of one or more circles or other shapes, called \"sets,\" which represent categories of items or concepts.\n",
    "-The sets are usually overlapped to show the relationships between them.\n",
    "-The overlapping regions of the sets indicate items or concepts that belong to multiple categories or have common attributes."
   ]
  },
  {
   "cell_type": "code",
   "execution_count": null,
   "id": "086f18bb-def1-42d2-9a74-80bb3cf03fa2",
   "metadata": {},
   "outputs": [],
   "source": [
    "Q7. For the two given sets A = (2,3,4,5,6,7) & B = (0,2,6,8,10). Find:\n",
    "(i) A ⋂ B=(2,6)\n",
    "\n",
    "(ii) A ⋃ B=(0,2,3,4,5,6,7,8,10)"
   ]
  },
  {
   "cell_type": "code",
   "execution_count": null,
   "id": "26812000-ce80-43b6-909d-0eb0cbe92581",
   "metadata": {},
   "outputs": [],
   "source": [
    "Q8. What do you understand about skewness in data?"
   ]
  },
  {
   "cell_type": "code",
   "execution_count": null,
   "id": "119dcf11-bc32-489f-b06b-59c4e4521b35",
   "metadata": {},
   "outputs": [],
   "source": [
    "-Skewness is a measure of the asymmetry of a distribution of data. A distribution is said to be skewed if it is not symmetric. \n",
    "-In a symmetric distribution, the mean, median, and mode are all equal, and the curve is identical on both sides of the center.\n",
    "\n",
    "-However, in a skewed distribution, the mean, median, and mode are different, and the curve is not identical on both sides of the center.\n",
    "-A distribution can be either positively skewed or negatively skewed."
   ]
  },
  {
   "cell_type": "code",
   "execution_count": null,
   "id": "081e29c3-5a9a-47e9-8ff8-a38d92f3fe07",
   "metadata": {},
   "outputs": [],
   "source": [
    "Q9. If a data is right skewed then what will be the position of median with respect to mean?"
   ]
  },
  {
   "cell_type": "code",
   "execution_count": null,
   "id": "a3fe62e4-1c0d-4194-9b7b-f4c5d5d406f5",
   "metadata": {},
   "outputs": [],
   "source": [
    "-If a data is right-skewed, the median will be less than the mean.\n",
    "- This is because the right-skewed distribution has a longer tail on the right side of the peak, which pulls the mean towards higher values.\n",
    "-The median, on the other hand, is not affected by extreme values and represents the central value of the dataset.\n",
    "-Therefore, in a right-skewed distribution, the median is usually less than the mean."
   ]
  },
  {
   "cell_type": "code",
   "execution_count": null,
   "id": "ba0213c3-4ca2-4f00-894d-f3c95be1af32",
   "metadata": {},
   "outputs": [],
   "source": [
    "Q10. Explain the difference between covariance and correlation. How are these measures used in\n",
    "statistical analysis?"
   ]
  },
  {
   "cell_type": "code",
   "execution_count": null,
   "id": "9f5af9fd-b0f3-49ad-82fe-a24631f7b579",
   "metadata": {},
   "outputs": [],
   "source": [
    "-Covariance and correlation are two statistical measures that describe the relationship between two variables.\n",
    "-While both covariance and correlation measure the degree of association between two variables,\n",
    " they differ in their scale and interpretation.\n",
    "\n",
    "-Covariance measures the direction and magnitude of the linear relationship between two variables. \n",
    "-It is calculated by multiplying the deviations of each variable from their respective means and summing them up.\n",
    "-A positive covariance indicates that the two variables are positively related, meaning that when one variable increases, \n",
    " the other tends to increase as well.\n",
    "-A negative covariance indicates that the two variables are negatively related, meaning that when one variable increases, \n",
    " the other tends to decrease."
   ]
  },
  {
   "cell_type": "code",
   "execution_count": null,
   "id": "947df676-dd84-4363-9427-a8665e50a8fe",
   "metadata": {},
   "outputs": [],
   "source": [
    "Q11. What is the formula for calculating the sample mean? Provide an example calculation for a\n",
    "dataset."
   ]
  },
  {
   "cell_type": "code",
   "execution_count": null,
   "id": "f7ee8e8d-3486-4aa7-9ece-5f301b53c613",
   "metadata": {},
   "outputs": [],
   "source": [
    "The formula for calculating the sample mean is:\n",
    "\n",
    "sample mean = sum of all values in the sample / total number of values in the sample\n",
    "\n",
    "In other words, you add up all the values in the sample and then divide the sum by the number of values in the sample.\n",
    "\n",
    "For example, lets say we have the following dataset:\n",
    "\n",
    "5, 10, 15, 20, 25\n",
    "\n",
    "To calculate the sample mean, we first add up all the values in the dataset:\n",
    "\n",
    "5 + 10 + 15 + 20 + 25 = 75\n",
    "\n",
    "Next, we divide the sum by the total number of values in the dataset, which is 5:\n",
    "\n",
    "75 / 5 = 15\n",
    "\n",
    "Therefore, the sample mean for this dataset is 15."
   ]
  },
  {
   "cell_type": "code",
   "execution_count": null,
   "id": "fd9df28f-5c9d-4b18-8f5b-35a2f4812aeb",
   "metadata": {},
   "outputs": [],
   "source": [
    "Q12. For a normal distribution data what is the relationship between its measure of central tendency?"
   ]
  },
  {
   "cell_type": "code",
   "execution_count": null,
   "id": "85c0876e-3d0f-49f0-be92-a734a4986ad0",
   "metadata": {},
   "outputs": [],
   "source": [
    "-For a normal distribution, the measures of central tendency, which are the mean, median, and mode, are equal. \n",
    "-This is because the normal distribution is symmetric around its mean, with half of the observations falling below the mean and\n",
    " half above it. The median is also located at the mean, and the mode is the highest point on the curve, which is also at the mean.\n",
    "\n",
    "-This relationship holds true for any normal distribution, regardless of its mean and standard deviation.\n",
    "-It is one of the defining characteristics of a normal distribution and makes it easier to summarize and interpret the data."
   ]
  },
  {
   "cell_type": "code",
   "execution_count": null,
   "id": "43283bdb-20ce-49e6-8be2-ba54606f1e72",
   "metadata": {},
   "outputs": [],
   "source": [
    "Q13. How is covariance different from correlation?"
   ]
  },
  {
   "cell_type": "code",
   "execution_count": null,
   "id": "1ad1d95d-f0ab-4044-a7b0-3647a787401c",
   "metadata": {},
   "outputs": [],
   "source": [
    "-Covariance and correlation are both statistical measures that describe the relationship between two variables.\n",
    "-However, they differ in their scale and interpretation.\n",
    "\n",
    "-Covariance measures the direction and strength of the linear relationship between two variables. \n",
    "-It is calculated by multiplying the deviations of each variable from their respective means and summing them up.\n",
    "-A positive covariance indicates that the two variables are positively related, meaning that when one variable increases, the other \n",
    " tends to increase as well. \n",
    "-A negative covariance indicates that the two variables are negatively related, meaning that when one variable increases, the other\n",
    " tends to decrease.\n",
    "-However, the magnitude of the covariance is not standardized and can be difficult to interpret.\n",
    "\n",
    "-Correlation, on the other hand, is a standardized measure of the linear relationship between two variables.\n",
    "-It is calculated by dividing the covariance by the product of the standard deviations of the two variables.\n",
    "-Correlation ranges from -1 to 1, where a correlation of 1 indicates a perfect positive relationship, a correlation of -1 indicates a \n",
    " perfect negative relationship, and a correlation of 0 indicates no relationship."
   ]
  },
  {
   "cell_type": "code",
   "execution_count": null,
   "id": "1054ecda-9bb2-4fe5-9f27-f44953792a47",
   "metadata": {},
   "outputs": [],
   "source": [
    "Q14. How do outliers affect measures of central tendency and dispersion? Provide an example."
   ]
  },
  {
   "cell_type": "code",
   "execution_count": null,
   "id": "93b494c8-2b1d-49d6-991b-8ea86bd23eb9",
   "metadata": {},
   "outputs": [],
   "source": [
    "-Outliers are data points that are significantly different from the other values in a dataset.\n",
    "-Outliers can affect the measures of central tendency and dispersion in different ways, depending on their magnitude and direction.\n",
    "\n",
    "-Outliers can affect measures of central tendency, such as the mean, by pulling the value in the direction of the outlier.\n",
    "-For example, if we have a dataset with values 1, 2, 3, 4, 5, and an outlier of 100, the mean will be pulled towards the outlier and\n",
    " will no longer be representative of the typical value in the dataset. \n",
    "-In contrast, the median, which is less affected by extreme values, will remain largely unaffected.\n",
    "\n",
    "For example, let's say we have a dataset of exam scores:\n",
    "\n",
    "85, 90, 92, 88, 91, 87, 89, 1000\n",
    "\n",
    "The outlier value of 1000 will have a significant impact on the mean, which will be pulled towards the outlier:\n",
    "\n",
    "Mean = (85 + 90 + 92 + 88 + 91 + 87 + 89 + 1000) / 8 = 190.5\n",
    "\n",
    "However, the median, which is less affected by the outlier, will be:\n",
    "\n",
    "Median = 89\n",
    "\n",
    "Similarly, the range will be much larger due to the outlier:\n",
    "\n",
    "Range = 1000 - 85 = 915\n",
    "\n",
    "And the standard deviation will be larger as well:\n",
    "\n",
    "Standard deviation = 286.6 (approximately)\n",
    "\n",
    "\n",
    "\n",
    "\n",
    "Regenerate response"
   ]
  }
 ],
 "metadata": {
  "kernelspec": {
   "display_name": "Python 3 (ipykernel)",
   "language": "python",
   "name": "python3"
  },
  "language_info": {
   "codemirror_mode": {
    "name": "ipython",
    "version": 3
   },
   "file_extension": ".py",
   "mimetype": "text/x-python",
   "name": "python",
   "nbconvert_exporter": "python",
   "pygments_lexer": "ipython3",
   "version": "3.10.8"
  }
 },
 "nbformat": 4,
 "nbformat_minor": 5
}
