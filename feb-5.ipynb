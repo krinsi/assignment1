{
 "cells": [
  {
   "cell_type": "code",
   "execution_count": null,
   "id": "29434415-5924-40fb-b416-9b1553e75d11",
   "metadata": {},
   "outputs": [],
   "source": [
    "#[1]:\n",
    "-python is an object oriented programming langueage.\n",
    "-Almost everything in python is an object,with its properties and methods.\n",
    "-A class is like an object constructor,or a 'blueprint' for creating objects.\n",
    "Ex of class: \n",
    "    class myclass:\n",
    "        x=5\n",
    "Ex of object:\n",
    "    p1=class()\n",
    "    print(p1,x)"
   ]
  },
  {
   "cell_type": "code",
   "execution_count": null,
   "id": "c89545cd-fb6f-4e05-a48b-a4b4c9c14330",
   "metadata": {},
   "outputs": [],
   "source": [
    "#[2]:the pillars of Oops:\n",
    "1.Inheritance\n",
    "2.Polymorphism\n",
    "3.Encapsulation\n",
    "4.Abstraction"
   ]
  },
  {
   "cell_type": "code",
   "execution_count": null,
   "id": "d4088b4a-4c8d-47fd-a8d5-34f041e36a0c",
   "metadata": {},
   "outputs": [],
   "source": [
    "#[3]:\n",
    "*__int__() function use:\n",
    "    -the __int__ function is called every time an object is created from a class.\n",
    "    -it is only used within classes.\n",
    "*Example:\n",
    "    class pw2:\n",
    "    def __init__(kissu,phone_num,email_id,stu_id):\n",
    "        kissu.phone_num=phone_num\n",
    "        kissu.email_id=email_id\n",
    "        kissu.stu_id=stu_id\n",
    "        \n",
    "    def return_stu_detail(self):\n",
    "        return kissu.stu_id,kissu.phone_num,kissu.email_id"
   ]
  },
  {
   "cell_type": "code",
   "execution_count": null,
   "id": "4f234195-ae60-4239-9385-36279b576201",
   "metadata": {},
   "outputs": [],
   "source": [
    "#[4]:\n",
    "*self is used in Oops because the self is used to represent the instance of the class which is often used in Oops.\n",
    "-python uses the self parameter to refer to instance attributes and methods of the class.\n",
    "Example:\n",
    "    class pwskill2:#data mange init......\n",
    "    def __init__(self,s_id,s_name):\n",
    "        self.s_id=s_id\n",
    "        self.s_name=s_name\n",
    "        \n",
    "    def return_stu_detail(self):\n",
    "        return self.s_id,self.s_name"
   ]
  },
  {
   "cell_type": "code",
   "execution_count": null,
   "id": "59f58326-e9c3-472d-bc71-8a730d13c07d",
   "metadata": {},
   "outputs": [],
   "source": [
    "#[5]:\n",
    "Inheritance allows us to define a class that inherits all the methods and properties from another class.\n",
    "\n",
    "Parent class is the class being inherited from, also called base class.\n",
    "\n",
    "Child class is the class that inherits from another class, also called derived class.\n",
    "-Example:\n",
    "class Person:\n",
    "  def __init__(self, fname, lname):\n",
    "    self.firstname = fname\n",
    "    self.lastname = lname\n",
    "\n",
    "  def printname(self):\n",
    "    print(self.firstname, self.lastname)\n"
   ]
  }
 ],
 "metadata": {
  "kernelspec": {
   "display_name": "Python 3 (ipykernel)",
   "language": "python",
   "name": "python3"
  },
  "language_info": {
   "codemirror_mode": {
    "name": "ipython",
    "version": 3
   },
   "file_extension": ".py",
   "mimetype": "text/x-python",
   "name": "python",
   "nbconvert_exporter": "python",
   "pygments_lexer": "ipython3",
   "version": "3.10.8"
  }
 },
 "nbformat": 4,
 "nbformat_minor": 5
}
