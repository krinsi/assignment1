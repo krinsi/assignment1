{
 "cells": [
  {
   "cell_type": "code",
   "execution_count": 8,
   "id": "2417d58d-4e28-48fb-ac73-25d2cdf00adc",
   "metadata": {},
   "outputs": [],
   "source": [
    "#[1]:\n",
    "class vehicle:\n",
    "    def __init__(self,name_of_vehicle,max_speed,average_of_vehicle):\n",
    "        self.name_of_vehicle=name_of_vehicle\n",
    "        self.max_speed=max_speed\n",
    "        self.average_of_vehicle=average_of_vehicle"
   ]
  },
  {
   "cell_type": "code",
   "execution_count": 9,
   "id": "71995d29-c22b-4f0f-959d-22c84e2b1c89",
   "metadata": {},
   "outputs": [],
   "source": [
    "kissu=vehicle(\"bike\",200,2000)"
   ]
  },
  {
   "cell_type": "code",
   "execution_count": 10,
   "id": "4c7cb8ef-86b9-4bd2-b8c9-83d3974e8416",
   "metadata": {},
   "outputs": [
    {
     "data": {
      "text/plain": [
       "'bike'"
      ]
     },
     "execution_count": 10,
     "metadata": {},
     "output_type": "execute_result"
    }
   ],
   "source": [
    "kissu.name_of_vehicle"
   ]
  },
  {
   "cell_type": "code",
   "execution_count": 11,
   "id": "7b8e1785-d98d-4100-ae2c-2c8c5dedba46",
   "metadata": {},
   "outputs": [
    {
     "data": {
      "text/plain": [
       "200"
      ]
     },
     "execution_count": 11,
     "metadata": {},
     "output_type": "execute_result"
    }
   ],
   "source": [
    "kissu.max_speed"
   ]
  },
  {
   "cell_type": "code",
   "execution_count": null,
   "id": "dea3b368-a0b7-47dc-9fea-e0c94ec363a9",
   "metadata": {},
   "outputs": [],
   "source": [
    "seating_capacity"
   ]
  },
  {
   "cell_type": "code",
   "execution_count": null,
   "id": "3ebb1ce3-b225-4aa3-af5f-78e18a0f2e25",
   "metadata": {},
   "outputs": [],
   "source": [
    "#[4]:\n",
    "#what is method overriding in python.\n",
    "-- Method overriding is a feature of object-oriented programming languages where the subclass or child class can provide the program with\n",
    " specific characteristics or a specific implementation process of data provided that are already defined in the parent class or superclass.\n",
    "    \n",
    "#example:\n",
    "class Parent1(): \n",
    "    def show(self): \n",
    "    print(\"Inside Parent1\") \n",
    "\n",
    "# Defining Parent class 2 \n",
    "class Parent2(): \n",
    "    # Parent’s show method \n",
    "    def display(self): \n",
    "    print(\"Inside Parent2\") \n",
    "\n",
    "# Defining child class \n",
    "class Child(Parent1, Parent2): \n",
    "     # Child’s show method \n",
    "    def show(self): \n",
    "    print(\"Inside Child\")   \n",
    "\n",
    "# Driver’s code \n",
    "\n",
    "obj = Child() \n",
    "\n",
    "obj.show() \n",
    "\n",
    "obj.display()"
   ]
  },
  {
   "cell_type": "code",
   "execution_count": 12,
   "id": "b5a561ee-66a4-49eb-86db-3098e5406070",
   "metadata": {},
   "outputs": [
    {
     "data": {
      "text/plain": [
       "2000"
      ]
     },
     "execution_count": 12,
     "metadata": {},
     "output_type": "execute_result"
    }
   ],
   "source": [
    "kissu.average_of_vehicle"
   ]
  },
  {
   "cell_type": "code",
   "execution_count": 4,
   "id": "a012efde-aa03-4988-a256-cdfd6d5c32bc",
   "metadata": {},
   "outputs": [],
   "source": [
    "#[2]:\n",
    "class vehicle:\n",
    "    def __init__(self,name_of_vehicle,max_speed,average_of_vehicle):\n",
    "        self.name_of_vehicle=name_of_vehicle\n",
    "        self.max_speed=max_speed\n",
    "        self.average_of_vehicle=average_of_vehicle\n",
    "        \n",
    "class car(vehicle):\n",
    "    def __init__(self,seating_capacity):\n",
    "        return \"name_of _vehicle\"\n",
    "    "
   ]
  },
  {
   "cell_type": "code",
   "execution_count": 6,
   "id": "1575a5a8-83a4-462d-9df4-1b9b9a6978c5",
   "metadata": {},
   "outputs": [],
   "source": [
    "kissu=vehicle(\"hero\",900,700)"
   ]
  },
  {
   "cell_type": "code",
   "execution_count": 8,
   "id": "868fdb93-591f-4e9b-87da-26e4d0835212",
   "metadata": {},
   "outputs": [
    {
     "data": {
      "text/plain": [
       "'hero'"
      ]
     },
     "execution_count": 8,
     "metadata": {},
     "output_type": "execute_result"
    }
   ],
   "source": [
    "kissu.name_of_vehicle"
   ]
  },
  {
   "cell_type": "code",
   "execution_count": null,
   "id": "65fcfa93-9b21-4109-98c8-889d9236c99d",
   "metadata": {},
   "outputs": [],
   "source": [
    "#[3]:\n",
    "#what are getter and setter in python.\n",
    "Getters:    These are the methods used in Object-Oriented Programming (OOPS) which helps to access the private attributes from a class.\n",
    "Setters:    These are the methods used in OOPS feature which helps to set the value to private attributes in a class.\n",
    "\n",
    "class SampleClass:\n",
    "\n",
    "    def __init__(self, a):\n",
    "        ## private varibale or property in Python\n",
    "        self.__a = a\n",
    "\n",
    "    ## getter method to get the properties using an object\n",
    "    def get_a(self):\n",
    "        return self.__a\n",
    "\n",
    "    ## setter method to change the value 'a' using an object\n",
    "    def set_a(self, a):\n",
    "        self.__a = a\n",
    "        \n",
    "    obj = SampleClass(10)\n",
    "\n",
    "    print(obj.get_a())\n",
    "\n",
    "    obj.set_a(45)\n",
    "\n",
    "    print(obj.get_a())"
   ]
  },
  {
   "cell_type": "code",
   "execution_count": null,
   "id": "33fe0d21-5ddb-46c8-be32-b29d8cb53e8f",
   "metadata": {},
   "outputs": [],
   "source": [
    "#[4]:\n",
    "#[4]:\n",
    "#what are getter and setter in python.\n",
    "Getters:    These are the methods used in Object-Oriented Programming (OOPS) which helps to access the private attributes from a class.\n",
    "Setters:    These are the methods used in OOPS feature which helps to set the value to private attributes in a class.\n",
    "\n",
    "class SampleClass:\n",
    "\n",
    "    def __init__(self, a):\n",
    "        ## private varibale or property in Python\n",
    "        self.__a = a\n",
    "\n",
    "    ## getter method to get the properties using an object\n",
    "    def get_a(self):\n",
    "        return self.__a\n",
    "\n",
    "    ## setter method to change the value 'a' using an object\n",
    "    def set_a(self, a):\n",
    "        self.__a = a\n",
    "        \n",
    "    obj = SampleClass(10)\n",
    "\n",
    "    print(obj.get_a())\n",
    "\n",
    "    obj.set_a(45)\n",
    "\n",
    "    print(obj.get_a())"
   ]
  },
  {
   "cell_type": "code",
   "execution_count": null,
   "id": "c6699d86-5c33-4748-9f7f-9cb5600a106e",
   "metadata": {},
   "outputs": [],
   "source": []
  },
  {
   "cell_type": "code",
   "execution_count": null,
   "id": "2652852a-ff3d-4638-a3af-be336606609f",
   "metadata": {},
   "outputs": [],
   "source": []
  },
  {
   "cell_type": "code",
   "execution_count": null,
   "id": "2ef65a71-ebb5-45f2-b49d-e55014272293",
   "metadata": {},
   "outputs": [],
   "source": []
  },
  {
   "cell_type": "code",
   "execution_count": null,
   "id": "28c16f67-5db6-44a1-bf19-c75dfbe74ef3",
   "metadata": {},
   "outputs": [],
   "source": []
  }
 ],
 "metadata": {
  "kernelspec": {
   "display_name": "Python 3 (ipykernel)",
   "language": "python",
   "name": "python3"
  },
  "language_info": {
   "codemirror_mode": {
    "name": "ipython",
    "version": 3
   },
   "file_extension": ".py",
   "mimetype": "text/x-python",
   "name": "python",
   "nbconvert_exporter": "python",
   "pygments_lexer": "ipython3",
   "version": "3.10.8"
  }
 },
 "nbformat": 4,
 "nbformat_minor": 5
}
