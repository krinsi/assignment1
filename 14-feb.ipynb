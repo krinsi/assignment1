{
 "cells": [
  {
   "cell_type": "code",
   "execution_count": null,
   "id": "af3cdb54-99fd-4426-8222-2aac8a0574c5",
   "metadata": {},
   "outputs": [],
   "source": [
    "#[1]:\n",
    "Multithreading in Python refers to the ability of the language to run multiple threads of execution simultaneously within a single program.\n",
    "Python supports multithreading through the \"threading\" module, which provides a simple and easy-to-use interface for creating and managing threads.\n",
    "However, due to the Global Interpreter Lock (GIL) in Python."
   ]
  },
  {
   "cell_type": "code",
   "execution_count": null,
   "id": "f05964a3-4afe-4e28-8f48-bc32370172f3",
   "metadata": {},
   "outputs": [],
   "source": [
    "#[2]:\n",
    "The threading module in Python is used to implement multithreading in a program, allowing for concurrent execution of multiple tasks.\n",
    "#[1]:activeCount:\n",
    "The activeCount() function of the threading module is used to return the number of currently active thread objects in the calling thread's\n",
    "thread control. In other words, it returns the number of threads that are currently running.\n",
    "#currentCount:\n",
    "The currentThread() function of the threading module is used to return a reference to the current thread object that the function is called from.\n",
    "This is useful for identifying the current thread and can be used to perform various operations on the current thread.\n",
    "#enumerate():\n",
    "The enumerate() function of the threading module is used to return a list of all the currently active thread objects. \n",
    "It can also be used to return a list of all the currently active thread objects that match a certain criteria, such as those that are daemonic or\n",
    "those that have a particular name."
   ]
  },
  {
   "cell_type": "code",
   "execution_count": null,
   "id": "26456a15-7a91-4567-8aae-ca293bfe5577",
   "metadata": {},
   "outputs": [],
   "source": [
    "#[3]:\n",
    "The following are some of the important functions of the Thread class in Python's threading module:\n",
    "#run():\n",
    "The run() method is the entry point for a new thread of execution. It contains the code that will be run in the new thread.\n",
    "#start():\n",
    "The start() method is used to start a new thread of execution. It creates a new thread and calls the run() method of the thread.\n",
    "Once started, the new thread will execute independently of the main thread.\n",
    "#join():\n",
    "The join() method is used to wait for a thread to complete its execution. When called on a thread, the method blocks the calling thread until \n",
    "the target thread has finished executing.\n",
    "#isAlive():\n",
    "The isAlive() method is used to check if a thread is currently running. It returns True if the thread is currently running, and False otherwise.\n",
    "\n",
    "These functions are used to create and manage threads in Python, and they allow you to perform various operations on the threads, \n",
    "such as starting them, waiting for them to complete, and checking their status."
   ]
  },
  {
   "cell_type": "code",
   "execution_count": 1,
   "id": "5834d6c8-20f0-4ce3-89ef-637087516314",
   "metadata": {},
   "outputs": [
    {
     "name": "stdout",
     "output_type": "stream",
     "text": [
      "Square of 1 is 1\n",
      "Square of 2 is 4\n",
      "Square of 3 is 9\n",
      "Square of 4 is 16\n",
      "Square of 5 is 25\n",
      "Square of 6 is 36\n",
      "Square of 7 is 49\n",
      "Square of 8 is 64\n",
      "Square of 9 is 81\n",
      "Square of 10 is 100\n",
      "Cube of 1 is 1\n",
      "Cube of 2 is 8\n",
      "Cube of 3 is 27\n",
      "Cube of 4 is 64\n",
      "Cube of 5 is 125\n",
      "Cube of 6 is 216\n",
      "Cube of 7 is 343\n",
      "Cube of 8 is 512\n",
      "Cube of 9 is 729\n",
      "Cube of 10 is 1000\n",
      "Done!\n"
     ]
    }
   ],
   "source": [
    "#[4]:\n",
    "import threading\n",
    "\n",
    "# Function to print the list of squares\n",
    "def print_squares(n):\n",
    "    for i in range(1, n+1):\n",
    "        print(f\"Square of {i} is {i*i}\")\n",
    "\n",
    "# Function to print the list of cubes\n",
    "def print_cubes(n):\n",
    "    for i in range(1, n+1):\n",
    "        print(f\"Cube of {i} is {i*i*i}\")\n",
    "\n",
    "# Creating two threads\n",
    "t1 = threading.Thread(target=print_squares, args=(10,))\n",
    "t2 = threading.Thread(target=print_cubes, args=(10,))\n",
    "\n",
    "# Starting the threads\n",
    "t1.start()\n",
    "t2.start()\n",
    "\n",
    "# Waiting for the threads to complete\n",
    "t1.join()\n",
    "t2.join()"
   ]
  },
  {
   "cell_type": "code",
   "execution_count": null,
   "id": "88fbbea9-2fee-459b-b3b1-76bf43cc8420",
   "metadata": {},
   "outputs": [],
   "source": [
    "#[5]:\n",
    "Multithreading is a powerful technique that allows a program to perform multiple tasks concurrently. Here are some of the advantages and disadvantages of using multithreading:\n",
    "\n",
    "#Advantages:\n",
    "\n",
    "-Improved Performance: Multithreading can improve the performance of a program by allowing it to execute multiple tasks concurrently, \n",
    "-thereby utilizing the available resources more efficiently.\n",
    "-Better Responsiveness: Multithreading can make a program more responsive by allowing it to continue processing user input while performing other\n",
    "tasks in the background.\n",
    "-Simplified Code: Multithreading can simplify the code by allowing the program to be written as a set of smaller, more manageable tasks.\n",
    "-Resource Sharing: Multithreading allows multiple threads to share resources, such as memory, files, and network connections,\n",
    "which can reduce resource consumption and improve efficiency.\n",
    "\n",
    "#Disadvantages:\n",
    "\n",
    "-Complexity: Multithreading can add complexity to a program by requiring careful management of resources, synchronization,\n",
    "and communication between threads.\n",
    "-Synchronization Overhead: Multithreading requires careful synchronization of shared resources, which can add overhead and reduce performance\n",
    "if not managed carefully.\n",
    "-Race Conditions: Multithreading can create race conditions, where the behavior of the program becomes unpredictable due to the concurrent\n",
    "access of shared resources by multiple threads.\n",
    "-Debugging: Multithreaded programs can be difficult to debug due to the unpredictable nature of race conditions and other synchronization issues."
   ]
  },
  {
   "cell_type": "code",
   "execution_count": null,
   "id": "f78666fb-b7f7-43f7-a479-b6e599a63266",
   "metadata": {},
   "outputs": [],
   "source": [
    "#[6]:\n",
    "-Deadlocks and race conditions are two common issues that can occur in multithreaded programs.\n",
    "\n",
    "-Deadlock occurs when two or more threads are blocked, waiting for each other to release a resource that they need to proceed.\n",
    "In other words, a deadlock happens when two or more threads are stuck in a circular dependency where each thread is waiting for the other to \n",
    "release a resource before it can continue.\n",
    "\n",
    "-A simple example of a deadlock is when two threads, A and B, each have a lock on a resource that the other needs.\n",
    "Thread A is waiting for Thread B to release its lock on Resource X, while Thread B is waiting for Thread A to release its lock on Resource Y. \n",
    "Neither thread can proceed until the other releases the resource it needs, resulting in a deadlock."
   ]
  }
 ],
 "metadata": {
  "kernelspec": {
   "display_name": "Python 3 (ipykernel)",
   "language": "python",
   "name": "python3"
  },
  "language_info": {
   "codemirror_mode": {
    "name": "ipython",
    "version": 3
   },
   "file_extension": ".py",
   "mimetype": "text/x-python",
   "name": "python",
   "nbconvert_exporter": "python",
   "pygments_lexer": "ipython3",
   "version": "3.10.8"
  }
 },
 "nbformat": 4,
 "nbformat_minor": 5
}
