{
 "cells": [
  {
   "cell_type": "code",
   "execution_count": 1,
   "id": "6b40f993-81ec-477c-9ffa-de000241d3b2",
   "metadata": {},
   "outputs": [
    {
     "name": "stdin",
     "output_type": "stream",
     "text": [
      "enter your marks 80\n"
     ]
    },
    {
     "name": "stdout",
     "output_type": "stream",
     "text": [
      "C\n"
     ]
    }
   ],
   "source": [
    "#[1]\n",
    "marks=int(input(\"enter your marks\"))\n",
    "if marks>90:\n",
    "    print(\"A\")\n",
    "elif marks>80 and marks<=90:\n",
    "    print(\"B\")\n",
    "elif marks>=60 and marks<=80:\n",
    "    print(\"C\")\n",
    "elif marks<60:\n",
    "    print(\"D\")"
   ]
  },
  {
   "cell_type": "code",
   "execution_count": 4,
   "id": "24c80d7c-8868-4097-8e9d-0259406ddb07",
   "metadata": {},
   "outputs": [
    {
     "name": "stdin",
     "output_type": "stream",
     "text": [
      "enter the cost price 50000\n"
     ]
    },
    {
     "name": "stdout",
     "output_type": "stream",
     "text": [
      "2500.0\n"
     ]
    }
   ],
   "source": [
    "#[2]\n",
    "c_price=int(input(\"enter the cost price\"))\n",
    "c=0\n",
    "if c_price>100000:\n",
    "      c=c_price*15/100\n",
    "elif c_price>50000 and c_price<=100000:\n",
    "      c=c_price*10/100\n",
    "elif c_price<=50000:\n",
    "      c=c_price*5/100\n",
    "print(c)\n"
   ]
  },
  {
   "cell_type": "code",
   "execution_count": 9,
   "id": "817e21a6-31ce-476c-9108-221e0d8f51be",
   "metadata": {},
   "outputs": [
    {
     "name": "stdin",
     "output_type": "stream",
     "text": [
      "enter your city jaipur\n"
     ]
    },
    {
     "name": "stdout",
     "output_type": "stream",
     "text": [
      "mounument is jal mahal\n"
     ]
    }
   ],
   "source": [
    "#[3]\n",
    "city=input(\"enter your city\")\n",
    "if city==\"delhi\":\n",
    "    print(\"mounumnet is res fort\")\n",
    "elif city==\"agra\":\n",
    "    print(\"mounument is taj mahal\")\n",
    "elif city==\"jaipur\":\n",
    "    print(\"mounument is jal mahal\")\n",
    "else:\n",
    "    print(\"enter valid city\")"
   ]
  },
  {
   "cell_type": "code",
   "execution_count": 2,
   "id": "b5a2432f-8563-45ee-af59-cbe3a12a0237",
   "metadata": {},
   "outputs": [
    {
     "name": "stdin",
     "output_type": "stream",
     "text": [
      "enter number 90\n"
     ]
    },
    {
     "name": "stdout",
     "output_type": "stream",
     "text": [
      "3\n"
     ]
    }
   ],
   "source": [
    "#[4]\n",
    "num=int(input(\"enter number\"))\n",
    "count=0\n",
    "while num>=10:\n",
    "    num=num/3\n",
    "    count=count+1\n",
    "    \n",
    "print(count)"
   ]
  },
  {
   "cell_type": "code",
   "execution_count": null,
   "id": "a7ccf662-9874-48fc-9e2a-985406606fc7",
   "metadata": {},
   "outputs": [],
   "source": [
    "#[5]\n",
    "-Python while loop is used to run a bloack code until a certain condition is met.\n",
    "-the syntex of while loop is\n",
    "    While condition:\n",
    "        #body of while loop\n",
    "-A while loop evaluates the condition.\n",
    "-If the condition evalutes to true,the code inside the while loop is executed.\n",
    "-when condition evaluates to fale=se,the loop stops,\n",
    "-Example:\n",
    "    -program to display numbers from 1 to 5\n",
    "    i=1\n",
    "    n=5\n",
    "    while i<=n:\n",
    "        print(i)\n",
    "        i=i+1"
   ]
  },
  {
   "cell_type": "code",
   "execution_count": 16,
   "id": "edc56a3f-70d5-41a7-8b26-ab6a6c4c343f",
   "metadata": {},
   "outputs": [
    {
     "name": "stdout",
     "output_type": "stream",
     "text": [
      "1\n",
      "33\n",
      "555\n",
      "7777\n",
      "99999\n"
     ]
    }
   ],
   "source": [
    "#[6]-[1]:\n",
    "#pattern=int(input(\"enter any number\"))\n",
    "rows=5\n",
    "i=1\n",
    "while i<=rows:\n",
    "    j=1\n",
    "    while j<=i:\n",
    "        print((i*2-1),end=\"\")\n",
    "        j=j+1\n",
    "    i=i+1\n",
    "    print('')"
   ]
  },
  {
   "cell_type": "code",
   "execution_count": 19,
   "id": "5fa29636-6b66-47b2-bc43-6114984256ae",
   "metadata": {},
   "outputs": [
    {
     "name": "stdout",
     "output_type": "stream",
     "text": [
      "0\n",
      "11\n",
      "222\n",
      "3333\n",
      "44444\n"
     ]
    }
   ],
   "source": [
    "#[6]-[2]\n",
    "rows=5\n",
    "i=1\n",
    "while i<=rows:\n",
    "    j=1\n",
    "    while j<=i:\n",
    "        print((i-1),end=\"\")\n",
    "        j=j+1\n",
    "    i=i+1\n",
    "    print('')"
   ]
  },
  {
   "cell_type": "code",
   "execution_count": 17,
   "id": "4cb2ac1f-ad2e-4a93-b415-8388abe6f52c",
   "metadata": {},
   "outputs": [
    {
     "name": "stdout",
     "output_type": "stream",
     "text": [
      "1\n",
      "22\n",
      "333\n",
      "4444\n",
      "55555\n"
     ]
    }
   ],
   "source": [
    "#[6]-[3]\n",
    "rows=5\n",
    "i=1\n",
    "while i<=rows:\n",
    "    j=1\n",
    "    while j<=i:\n",
    "        print((i),end=\"\")\n",
    "        j=j+1\n",
    "    i=i+1\n",
    "    print('')"
   ]
  },
  {
   "cell_type": "code",
   "execution_count": 20,
   "id": "67f98fc1-5409-475e-9771-3a438a555c9f",
   "metadata": {},
   "outputs": [
    {
     "name": "stdout",
     "output_type": "stream",
     "text": [
      "10\n",
      "9\n",
      "8\n",
      "7\n",
      "6\n",
      "5\n",
      "4\n",
      "3\n",
      "2\n",
      "1\n"
     ]
    }
   ],
   "source": [
    "#[7][8]\n",
    "\n",
    "i=11\n",
    "while i>1:\n",
    "    \n",
    "    print(i)\n",
    "    \n",
    "    i=i-1\n",
    "    print(i)"
   ]
  },
  {
   "cell_type": "code",
   "execution_count": null,
   "id": "efd8f481-6aa2-4130-8dd7-3c2bcf9c5a3b",
   "metadata": {},
   "outputs": [],
   "source": []
  }
 ],
 "metadata": {
  "kernelspec": {
   "display_name": "Python 3 (ipykernel)",
   "language": "python",
   "name": "python3"
  },
  "language_info": {
   "codemirror_mode": {
    "name": "ipython",
    "version": 3
   },
   "file_extension": ".py",
   "mimetype": "text/x-python",
   "name": "python",
   "nbconvert_exporter": "python",
   "pygments_lexer": "ipython3",
   "version": "3.10.8"
  }
 },
 "nbformat": 4,
 "nbformat_minor": 5
}
