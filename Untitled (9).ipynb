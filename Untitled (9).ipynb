{
 "cells": [
  {
   "cell_type": "code",
   "execution_count": null,
   "id": "20b88753-4564-4110-acf9-5fc60a3eab2c",
   "metadata": {},
   "outputs": [],
   "source": [
    "#[1]:\n",
    "-Flask is a popular web framework in Python that helps developers build web applications quickly and efficiently. \n",
    "-Flask is a micro-framework, meaning that it provides only the bare essentials for web development and allows developers to customize\n",
    "and extend it as needed.\n",
    "\n",
    "#Some advantages of using Flask include:\n",
    "\n",
    "Lightweight and flexible: \n",
    "    Flask is lightweight and has a simple core that can be easily extended with plugins and third-party libraries. This allows developers\n",
    "to tailor the framework to their specific needs.\n",
    "\n",
    "Easy to learn: \n",
    "    Flask has a minimalistic syntax that is easy to learn and use, even for beginners. Its simplicity also makes it easy to debug and\n",
    "troubleshoot.\n",
    "\n",
    "Built-in development server: \n",
    "    Flask comes with a built-in development server that allows developers to test their applications without having to deploy them\n",
    "to a production server."
   ]
  },
  {
   "cell_type": "code",
   "execution_count": null,
   "id": "4ef32294-0ed2-4e39-a988-345ac1eb4533",
   "metadata": {},
   "outputs": [],
   "source": [
    "#[2]:\n",
    "#Q2. Create a simple Flask application to display ‘Hello World!!’. Attach the screenshot of the output in Jupyter Notebook.\n",
    "Screenshot is attached."
   ]
  },
  {
   "cell_type": "code",
   "execution_count": null,
   "id": "0581cede-c639-4924-a991-4a7775512bc5",
   "metadata": {},
   "outputs": [],
   "source": [
    "#[3]:\n",
    "-App routing in Flask refers to the process of mapping URLs to specific functions in a Flask application.\n",
    "-When a user visits a URL in a Flask application, the corresponding function is executed to generate a response that is sent back to the \n",
    "users browser.\n",
    "-App routes are used in Flask to define the different URLs that a user can visit within a web application and to map those URLs to the\n",
    "corresponding functions that generate the response for that URL. This is done using the @app.route() decorator in Flask."
   ]
  },
  {
   "cell_type": "code",
   "execution_count": null,
   "id": "e2c308ee-bc52-4392-9289-6b470a1a383a",
   "metadata": {},
   "outputs": [],
   "source": [
    "#[4]:\n"
   ]
  },
  {
   "cell_type": "code",
   "execution_count": null,
   "id": "07f1e1ec-6f6d-4668-83d4-de522540e0db",
   "metadata": {},
   "outputs": [],
   "source": [
    "#[5]:\n",
    "In Flask, the url_for() function is used for URL building. \n",
    "This function generates a URL for a specific function based on the endpoint name and any arguments that the function requires.\n",
    "\n",
    "from flask import Flask, url_for\n",
    "\n",
    "app = Flask(__name__)\n",
    "\n",
    "@app.route('/')\n",
    "def index():\n",
    "    return 'Hello, World!'\n",
    "\n",
    "@app.route('/user/<username>')\n",
    "def user_profile(username):\n",
    "    return f'Welcome to your profile, {username}!'\n",
    "\n",
    "with app.test_request_context():\n",
    "    print(url_for('index'))\n",
    "   \n",
    "    print(url_for('user_profile', username='john'))\n",
    "    "
   ]
  }
 ],
 "metadata": {
  "kernelspec": {
   "display_name": "Python 3 (ipykernel)",
   "language": "python",
   "name": "python3"
  },
  "language_info": {
   "codemirror_mode": {
    "name": "ipython",
    "version": 3
   },
   "file_extension": ".py",
   "mimetype": "text/x-python",
   "name": "python",
   "nbconvert_exporter": "python",
   "pygments_lexer": "ipython3",
   "version": "3.10.8"
  }
 },
 "nbformat": 4,
 "nbformat_minor": 5
}
