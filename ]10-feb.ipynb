{
 "cells": [
  {
   "cell_type": "code",
   "execution_count": null,
   "id": "a51e0898-83ea-4835-ae36-27ce27ace2ae",
   "metadata": {},
   "outputs": [],
   "source": [
    "#[1]:\n",
    "Q1. Which function is used to open a file? What are the different modes of opening a file? Explain each mode\n",
    "of file opening.\n",
    "Ans:\n",
    "    The built-in function open() is used to open a file in Python.\n",
    "   \n",
    "------The different modes of opening a file in Python are:\n",
    "\n",
    "\"r\" (read-only mode): opens the file for reading. The pointer is placed at the beginning of the file. This is the default mode in which a file is opened.\n",
    "\n",
    "\"w\" (write mode): opens the file for writing. If the file already exists, its content is truncated (deleted). If the file doesn't exist, a new file is created.\n",
    "\n",
    "\"a\" (append mode): opens the file for writing and appends the new data to the end of the file. If the file doesn't exist, a new file is created.\n",
    "\n",
    "\"x\" (exclusive creation mode): creates a new file for writing, but fails if the file already exists.\n",
    "\n",
    "\"b\" (binary mode): opens the file in binary mode. This is used for non-text files like images, audio, etc.\n",
    "\n",
    "\"t\" (text mode): opens the file in text mode. This is the default mode for text files.\n",
    "\n",
    "The modes can be combined, so for example, \"rb\" means \"open the file in binary mode for reading\". The most common modes are \"r\" and \"w\"."
   ]
  },
  {
   "cell_type": "code",
   "execution_count": null,
   "id": "114dbc60-d4c0-4bfb-9364-2869e67ef0ee",
   "metadata": {},
   "outputs": [],
   "source": [
    "#[2]:\n",
    "#close() function use :\n",
    "The close() function is used to close an open file in Python. \n",
    "When you open a file, the operating system reserves a specific amount of memory to hold the file's contents.\n",
    "Closing the file releases this memory and ensures that any changes you made to the file are saved properly.\n",
    "Its important to close a file after you are done with it because failure to do so can result in resource leaks.\n",
    "If you have many files open, you may run out of memory or other system resources.\n",
    "Additionally, if you don't close a file, it's possible that changes you make to the file may not be saved properly, which could result in data loss."
   ]
  },
  {
   "cell_type": "code",
   "execution_count": 4,
   "id": "5e776af2-a541-4ea3-a106-dd54db330de6",
   "metadata": {},
   "outputs": [
    {
     "name": "stdout",
     "output_type": "stream",
     "text": [
      "I want to become a Data Scientist\n"
     ]
    }
   ],
   "source": [
    "#[3]:\n",
    "with open(\"file.txt\", \"w\") as file:\n",
    "    file.write(\"I want to become a Data Scientist\")\n",
    "\n",
    "# Close the file\n",
    "file.close()\n",
    "\n",
    "# Open the file and read its contents\n",
    "with open(\"file.txt\", \"r\") as file:\n",
    "    content = file.read()\n",
    "    print(content)"
   ]
  },
  {
   "cell_type": "code",
   "execution_count": null,
   "id": "f7c56963-7764-4be4-8cc0-37d3585eb366",
   "metadata": {},
   "outputs": [],
   "source": [
    "#[4]:\n",
    "The following are methods for reading data from a file in Python:\n",
    "\n",
    "1.read(): This method reads the entire contents of a file and returns it as a string.\n",
    "2.readline(): This method reads one line at a time from a file. Here an example:\n",
    "3.readlines() is used to read all the lines of a file and return them as a list."
   ]
  },
  {
   "cell_type": "code",
   "execution_count": null,
   "id": "8802b4b4-12bd-4865-adcb-581826f986b8",
   "metadata": {},
   "outputs": [],
   "source": [
    "#[5]:\n",
    "Explain why with statement is used with open(). What is the advantage of using with statement and\n",
    "open() together?\n",
    "Ans:\n",
    "    The with statement is used with the open() function in Python to ensure that the file is properly closed after the indented code block is executed, even if an exception occurs.\n",
    "    The advantage of using with and open() together is that it provides a convenient and clean way to handle the opening and closing of files"
   ]
  },
  {
   "cell_type": "code",
   "execution_count": null,
   "id": "df9a6500-305b-4fc7-887e-ab0b3098ea50",
   "metadata": {},
   "outputs": [],
   "source": [
    "#[6]:\n",
    "The write() and writelines() functions are used to write data to a file in Python.\n",
    "-write() is used to write a single string to a file.\n",
    "-Here an example of using write() with open(\"filename.txt\", \"w\") as file:\n",
    "    lines = [\"Line 1\", \"Line 2\",\"Line 3\"]\n",
    "    file.writelines(lines)"
   ]
  },
  {
   "cell_type": "code",
   "execution_count": null,
   "id": "4fa2de54-1bfe-4001-83e7-fac0d2af7636",
   "metadata": {},
   "outputs": [],
   "source": []
  },
  {
   "cell_type": "code",
   "execution_count": null,
   "id": "b8241d65-25f5-4276-817f-dc53b0729f69",
   "metadata": {},
   "outputs": [],
   "source": []
  },
  {
   "cell_type": "code",
   "execution_count": null,
   "id": "ddb161d7-49c2-407c-b7ea-eb3ce0c13fea",
   "metadata": {},
   "outputs": [],
   "source": []
  }
 ],
 "metadata": {
  "kernelspec": {
   "display_name": "Python 3 (ipykernel)",
   "language": "python",
   "name": "python3"
  },
  "language_info": {
   "codemirror_mode": {
    "name": "ipython",
    "version": 3
   },
   "file_extension": ".py",
   "mimetype": "text/x-python",
   "name": "python",
   "nbconvert_exporter": "python",
   "pygments_lexer": "ipython3",
   "version": "3.10.8"
  }
 },
 "nbformat": 4,
 "nbformat_minor": 5
}
