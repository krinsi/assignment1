{
 "cells": [
  {
   "cell_type": "code",
   "execution_count": null,
   "id": "bcaa2e7c-1940-48b1-b6c8-45f6389abaf1",
   "metadata": {},
   "outputs": [],
   "source": [
    "#[q-1]:\n",
    "Bokeh is a Python library for creating interactive visualizations for the web. Here's how you can create a simple Bokeh plot using Python code:\n",
    "\n",
    "1.Import the necessary modules:\n",
    "    from bokeh.plotting import figure, output_file, show\n",
    "    \n",
    "2.Define your data:\n",
    "    x = [1, 2, 3, 4, 5]\n",
    "    y = [6, 7, 2, 4, 5]\n",
    "    \n",
    "3.Specify the output file (optional):\n",
    "    output_file(\"plot.html\")\n",
    "    \n",
    "4.Create a new figure:\n",
    "    p = figure(title=\"Simple Bokeh plot\", x_axis_label='x', y_axis_label='y')\n",
    "    \n",
    "5.Add data to the figure:\n",
    "    p.line(x, y, legend_label=\"Line\", line_width=2)\n",
    "    \n",
    "6.Display the plot:\n",
    "    show(p)"
   ]
  },
  {
   "cell_type": "code",
   "execution_count": null,
   "id": "766c5adc-e032-415b-94f7-a5e5a7476063",
   "metadata": {},
   "outputs": [],
   "source": [
    "#[q-2]:\n",
    "In Bokeh, glyphs are visual shapes used to represent data in a plot.\n",
    "Some common types of glyphs include circles, squares, lines, and text.\n",
    "Each glyph can be customized with various visual properties, such as color, size, and transparency.\n",
    "To add glyphs to a Bokeh plot, you can use the p.circle(), p.square(), p.line(), and other glyph methods provided by the figure object.\n",
    "\n",
    "#EXAMPLE:\n",
    "from bokeh.plotting import figure, output_file, show\n",
    "\n",
    "# Define data\n",
    "x = [1, 2, 3, 4, 5]\n",
    "y = [6, 7, 2, 4, 5]\n",
    "\n",
    "output_file(\"glyphs.html\")\n",
    "\n",
    "p = figure(title=\"Glyphs example\", x_axis_label='x', y_axis_label='y')\n",
    "\n",
    "p.circle(x, y, size=10, color=\"navy\", alpha=0.5)\n",
    "\n",
    "p.line(x, y, legend_label=\"Line\", line_width=2, color=\"red\")\n",
    "\n",
    "show(p)"
   ]
  },
  {
   "cell_type": "code",
   "execution_count": null,
   "id": "e6610835-3092-4d50-8125-a5e54f072103",
   "metadata": {},
   "outputs": [],
   "source": [
    "#[q-3]:\n",
    "In Bokeh, you can customize the appearance of a plot using various methods provided by the figure object.\n",
    "Here are some common ways to customize the appearance of a Bokeh plot:\n",
    "\n",
    "1.Customize the title:\n",
    "    You can customize the title of a plot using the title property of the figure object.\n",
    "    \n",
    "2.Customize the axes:\n",
    "    You can customize the axes of a plot using the x_axis_label, y_axis_label, and axis_label_text_font_size properties of the figure object.\n",
    "    \n",
    "3.Customize the legend:\n",
    "    You can customize the legend of a plot using the legend, legend_location, and legend_label_text_font_size properties of the figure object.\n",
    "    \n",
    "4.Customize the background:\n",
    "    You can customize the background of a plot using the background_fill_color and border_fill_color properties of the figure object. "
   ]
  },
  {
   "cell_type": "code",
   "execution_count": null,
   "id": "c19c9188-8ef4-4c52-9d0e-833d6204168d",
   "metadata": {},
   "outputs": [],
   "source": [
    "#[q-4]:\n",
    "-Bokeh server is a Bokeh feature that allows you to create interactive plots that can be updated in real-time.\n",
    "-With Bokeh server, you can create web applications that can be served from a Python script, which allows you to create and update Bokeh plots\n",
    " dynamically.\n",
    "-To use Bokeh server to create interactive plots, you need to define a Python script that creates the plot and the data sources, \n",
    " and then run the script using the bokeh serve command. \n",
    "-The bokeh serve command will start a Bokeh server that will serve the web application and make the plot interactive."
   ]
  },
  {
   "cell_type": "code",
   "execution_count": null,
   "id": "51b66268-3c85-4f1b-922f-b3483c17324d",
   "metadata": {},
   "outputs": [],
   "source": [
    "#[q-5]:\n",
    "-To embed a Bokeh plot into a web page or dashboard using Flask or Django, you can use the Bokeh components function to generate the necessary\n",
    " JavaScript and HTML code to embed the plot in a web page.\n",
    "\n",
    "#EXAMPLE:\n",
    "\n",
    "from django.shortcuts import render\n",
    "from bokeh.plotting import figure\n",
    "from bokeh.embed import components\n",
    "\n",
    "def index(request):\n",
    "    p = figure(plot_width=400, plot_height=400)\n",
    "    p.circle([1, 2, 3, 4, 5], [6, 7, 2, 4, 5], size=15)\n",
    "\n",
    "    script, div = components(p)\n",
    "\n",
    "    return render(request, \"index.html\", {\"script\": script, \"div\": div})"
   ]
  },
  {
   "cell_type": "code",
   "execution_count": null,
   "id": "ec3a33ac-52b5-4bdd-9467-8b6997ec79ca",
   "metadata": {},
   "outputs": [],
   "source": []
  }
 ],
 "metadata": {
  "kernelspec": {
   "display_name": "Python 3 (ipykernel)",
   "language": "python",
   "name": "python3"
  },
  "language_info": {
   "codemirror_mode": {
    "name": "ipython",
    "version": 3
   },
   "file_extension": ".py",
   "mimetype": "text/x-python",
   "name": "python",
   "nbconvert_exporter": "python",
   "pygments_lexer": "ipython3",
   "version": "3.10.8"
  }
 },
 "nbformat": 4,
 "nbformat_minor": 5
}
