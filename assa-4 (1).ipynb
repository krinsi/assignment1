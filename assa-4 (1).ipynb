{
 "cells": [
  {
   "cell_type": "code",
   "execution_count": 4,
   "id": "30b3360c-ca4f-4b99-924c-6e033ba1b93c",
   "metadata": {},
   "outputs": [
    {
     "name": "stdout",
     "output_type": "stream",
     "text": [
      "[1, 2, 3, 4, 5, 6, 7, 8, 9, 10, 11, 12, 13, 14, 15, 16, 17, 18, 19, 20, 21, 22, 23, 24, 25]\n"
     ]
    }
   ],
   "source": [
    "#[1]:\n",
    "#The keyword def() is used to create function.\n",
    "l=list(range(1,26))\n",
    "print(l)\n",
    "def odd():\n",
    "      list(filter(lambda x :x%2==0,l))\n",
    "        "
   ]
  },
  {
   "cell_type": "code",
   "execution_count": 5,
   "id": "09aaa8db-09e2-4576-adbe-933c74d4ab12",
   "metadata": {},
   "outputs": [],
   "source": [
    "#[2]:\n",
    "#We can use *args and **kwargs as arguments of a function when we are unsure about the number of arguments to pass in the function.\n",
    "def t1(*args,a):\n",
    "    return args,a\n"
   ]
  },
  {
   "cell_type": "code",
   "execution_count": 6,
   "id": "8f37502a-fb6c-42ca-a9cb-9a96bbdd04dc",
   "metadata": {},
   "outputs": [
    {
     "data": {
      "text/plain": [
       "((2, 8, 4, 1, 7), 230)"
      ]
     },
     "execution_count": 6,
     "metadata": {},
     "output_type": "execute_result"
    }
   ],
   "source": [
    "t1(2,8,4,1,7,a=230)"
   ]
  },
  {
   "cell_type": "code",
   "execution_count": 7,
   "id": "938855d9-8f01-4bd2-8f39-0341a160cb40",
   "metadata": {},
   "outputs": [],
   "source": [
    "def t2(**kwargs):\n",
    "    return kwargs\n"
   ]
  },
  {
   "cell_type": "code",
   "execution_count": 9,
   "id": "e74cdde7-d979-4e2d-8cdd-86c9c834b5bd",
   "metadata": {},
   "outputs": [
    {
     "data": {
      "text/plain": [
       "{}"
      ]
     },
     "execution_count": 9,
     "metadata": {},
     "output_type": "execute_result"
    }
   ],
   "source": [
    "t2()"
   ]
  },
  {
   "cell_type": "code",
   "execution_count": 37,
   "id": "20316fc0-3d0b-4347-8e73-b16bf5f75caf",
   "metadata": {},
   "outputs": [],
   "source": [
    "#[3]:\n",
    "#-A interator is an object thet contains a countable number of values..An iterator is an object which implements the iterator protocol,which consist of the methods __iter() and __next__()\n",
    "l1=[2,4,6,8,10,12,14,16,18,20]"
   ]
  },
  {
   "cell_type": "code",
   "execution_count": 38,
   "id": "65e48c95-b9e4-4e7f-81ef-e0dea0f44ba4",
   "metadata": {},
   "outputs": [
    {
     "data": {
      "text/plain": [
       "[2, 4, 6, 8, 10, 12, 14, 16, 18, 20]"
      ]
     },
     "execution_count": 38,
     "metadata": {},
     "output_type": "execute_result"
    }
   ],
   "source": [
    "l1"
   ]
  },
  {
   "cell_type": "code",
   "execution_count": 43,
   "id": "54fd5bd2-826c-44c1-915e-0ab65199b77e",
   "metadata": {},
   "outputs": [],
   "source": [
    "iterable=iter(l1)\n",
    "for i in range(5):\n",
    "    next(iterable)"
   ]
  },
  {
   "cell_type": "code",
   "execution_count": 40,
   "id": "d84de21e-35f6-48ab-8361-94c1236fb20f",
   "metadata": {},
   "outputs": [],
   "source": [
    "#[4]:\n",
    "#Generator function: A generator is a function that returns an interator that produces a sequence of values when iterated.\n",
    "#yield:the yield keyword control the flow of a generator function.\n",
    "#example:\n",
    "def fibo(n):\n",
    "    a=0\n",
    "    b=1\n",
    "    for i in range(n):\n",
    "        print(a)\n",
    "        a=b\n",
    "        b=a+b\n",
    "        "
   ]
  },
  {
   "cell_type": "raw",
   "id": "66d0c1be-3f45-40c0-b0d9-a82f2833a693",
   "metadata": {},
   "source": []
  },
  {
   "cell_type": "code",
   "execution_count": 11,
   "id": "6b95ad88-d943-4dc7-94f1-d51195b1d9e7",
   "metadata": {},
   "outputs": [
    {
     "name": "stdin",
     "output_type": "stream",
     "text": [
      "enter number 99\n"
     ]
    },
    {
     "name": "stdout",
     "output_type": "stream",
     "text": [
      "this num is palidron\n"
     ]
    }
   ],
   "source": [
    "#[8]\n",
    "n=int(input(\"enter number\"))\n",
    "temp=n\n",
    "rev=0\n",
    "while(n>0):\n",
    "    dig=n%10\n",
    "    rev=rev*10+dig\n",
    "    n=n//10\n",
    "if (temp==rev):\n",
    "     print(\"this num is palidron\")\n",
    "else:\n",
    "     print(\"this num is not palidron\")\n",
    "        "
   ]
  },
  {
   "cell_type": "code",
   "execution_count": 12,
   "id": "83094c5a-7148-4ae5-971e-2f298b23a35c",
   "metadata": {},
   "outputs": [],
   "source": [
    "#[9]:\n",
    "l=range(1,101)"
   ]
  },
  {
   "cell_type": "code",
   "execution_count": 13,
   "id": "ce15ca9d-959f-4eb4-80a7-600fa242d505",
   "metadata": {},
   "outputs": [
    {
     "name": "stdout",
     "output_type": "stream",
     "text": [
      "[1, 2, 3, 4, 5, 6, 7, 8, 9, 10, 11, 12, 13, 14, 15, 16, 17, 18, 19, 20, 21, 22, 23, 24, 25, 26, 27, 28, 29, 30, 31, 32, 33, 34, 35, 36, 37, 38, 39, 40, 41, 42, 43, 44, 45, 46, 47, 48, 49, 50, 51, 52, 53, 54, 55, 56, 57, 58, 59, 60, 61, 62, 63, 64, 65, 66, 67, 68, 69, 70, 71, 72, 73, 74, 75, 76, 77, 78, 79, 80, 81, 82, 83, 84, 85, 86, 87, 88, 89, 90, 91, 92, 93, 94, 95, 96, 97, 98, 99, 100]\n"
     ]
    }
   ],
   "source": [
    "print(list(l))"
   ]
  },
  {
   "cell_type": "code",
   "execution_count": 14,
   "id": "06326696-a574-4337-bbec-a1c02ee52b61",
   "metadata": {},
   "outputs": [
    {
     "data": {
      "text/plain": [
       "[1,\n",
       " 3,\n",
       " 5,\n",
       " 7,\n",
       " 9,\n",
       " 11,\n",
       " 13,\n",
       " 15,\n",
       " 17,\n",
       " 19,\n",
       " 21,\n",
       " 23,\n",
       " 25,\n",
       " 27,\n",
       " 29,\n",
       " 31,\n",
       " 33,\n",
       " 35,\n",
       " 37,\n",
       " 39,\n",
       " 41,\n",
       " 43,\n",
       " 45,\n",
       " 47,\n",
       " 49,\n",
       " 51,\n",
       " 53,\n",
       " 55,\n",
       " 57,\n",
       " 59,\n",
       " 61,\n",
       " 63,\n",
       " 65,\n",
       " 67,\n",
       " 69,\n",
       " 71,\n",
       " 73,\n",
       " 75,\n",
       " 77,\n",
       " 79,\n",
       " 81,\n",
       " 83,\n",
       " 85,\n",
       " 87,\n",
       " 89,\n",
       " 91,\n",
       " 93,\n",
       " 95,\n",
       " 97,\n",
       " 99]"
      ]
     },
     "execution_count": 14,
     "metadata": {},
     "output_type": "execute_result"
    }
   ],
   "source": [
    "[i for i in l if i%2!=0]"
   ]
  },
  {
   "cell_type": "code",
   "execution_count": null,
   "id": "9726b2c6-80ff-4a49-9a4a-b1b5e33ae2fc",
   "metadata": {},
   "outputs": [],
   "source": [
    "#[5]\n",
    "def prime():\n",
    "    primes=[]\n",
    "    for i in range(2,1000):\n",
    "        for j in primes:\n",
    "            if i%j==0:\n",
    "                break\n",
    "            else:\n",
    "                primes.append(i)\n",
    "                yield i\n"
   ]
  },
  {
   "cell_type": "code",
   "execution_count": null,
   "id": "81f4deb2-2823-4c40-8b97-71efad16a2a7",
   "metadata": {},
   "outputs": [],
   "source": [
    "iteret=prime()"
   ]
  },
  {
   "cell_type": "code",
   "execution_count": null,
   "id": "0382077f-21a4-4285-a0c3-7446979c0799",
   "metadata": {},
   "outputs": [],
   "source": [
    "for i in range(20):\n",
    "    print(next(iteret))"
   ]
  },
  {
   "cell_type": "code",
   "execution_count": null,
   "id": "e9c75e04-567a-4bb1-ad2f-be8041b21634",
   "metadata": {},
   "outputs": [],
   "source": []
  },
  {
   "cell_type": "code",
   "execution_count": 8,
   "id": "cff32a26-23dc-4e60-aca3-b72fb60ea81f",
   "metadata": {},
   "outputs": [
    {
     "name": "stdin",
     "output_type": "stream",
     "text": [
      "enter a number 10\n"
     ]
    },
    {
     "name": "stdout",
     "output_type": "stream",
     "text": [
      "0\n",
      "1\n",
      "1\n",
      "2\n",
      "3\n",
      "5\n",
      "8\n",
      "13\n",
      "21\n",
      "34\n"
     ]
    }
   ],
   "source": [
    "#[6]:\n",
    "n=int(input(\"enter a number\"))\n",
    "a=0\n",
    "b=1\n",
    "i=0\n",
    "while i<n:\n",
    "    print(a)\n",
    "    c=a+b\n",
    "    a=b\n",
    "    b=c\n",
    "    i=i+1"
   ]
  },
  {
   "cell_type": "code",
   "execution_count": 9,
   "id": "b7c4624f-a7d4-41e1-8221-2168f1a035df",
   "metadata": {},
   "outputs": [
    {
     "data": {
      "text/plain": [
       "['p', 'w', 's', 'k', 'i', 'l', 'l', 's']"
      ]
     },
     "execution_count": 9,
     "metadata": {},
     "output_type": "execute_result"
    }
   ],
   "source": [
    "#[7]\n",
    "l1=\"pwskills\"\n",
    "[i for i in l1]"
   ]
  },
  {
   "cell_type": "code",
   "execution_count": null,
   "id": "64e80559-9b2b-4e27-8c83-6dbfdc0ae906",
   "metadata": {},
   "outputs": [],
   "source": [
    "#[8]\n",
    "n=int(input(\"enter number\"))\n",
    "temp=n\n",
    "rev=0\n",
    "while(n>0):\n",
    "    dig=n%10\n",
    "    rev=rev*10+dig\n",
    "    n=n//10\n",
    "if (temp==rev):\n",
    "     print(\"this num is palidron\")\n",
    "else:\n",
    "     print(\"this num is not palidron\")\n",
    "        "
   ]
  },
  {
   "cell_type": "code",
   "execution_count": null,
   "id": "f8bd6d75-ecdf-4164-819a-7a65359595fd",
   "metadata": {},
   "outputs": [],
   "source": []
  }
 ],
 "metadata": {
  "kernelspec": {
   "display_name": "Python 3 (ipykernel)",
   "language": "python",
   "name": "python3"
  },
  "language_info": {
   "codemirror_mode": {
    "name": "ipython",
    "version": 3
   },
   "file_extension": ".py",
   "mimetype": "text/x-python",
   "name": "python",
   "nbconvert_exporter": "python",
   "pygments_lexer": "ipython3",
   "version": "3.10.8"
  }
 },
 "nbformat": 4,
 "nbformat_minor": 5
}
