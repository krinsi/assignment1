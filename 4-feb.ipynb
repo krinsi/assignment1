{
 "cells": [
  {
   "cell_type": "code",
   "execution_count": 23,
   "id": "ffa5c6be-cbc1-44f5-9f73-589e574c6f86",
   "metadata": {},
   "outputs": [
    {
     "name": "stdout",
     "output_type": "stream",
     "text": [
      "[('Virat Kohli', 24936), ('Jack Kallis', 25534), ('Ricky Ponting', 27483), ('sachin Tendulakar', 34357)]\n"
     ]
    }
   ],
   "source": [
    "#[1]:\n",
    "l=[('sachin Tendulakar',34357),('Ricky Ponting',27483),('Jack Kallis',25534),('Virat Kohli',24936)]\n",
    "l.sort(key=lambda l:l[1])\n",
    "print(l)"
   ]
  },
  {
   "cell_type": "code",
   "execution_count": 17,
   "id": "1a409cd1-446c-4f23-9134-bf326e09cebf",
   "metadata": {},
   "outputs": [
    {
     "data": {
      "text/plain": [
       "[1, 4, 9, 16, 25, 36, 49, 64, 81, 100]"
      ]
     },
     "execution_count": 17,
     "metadata": {},
     "output_type": "execute_result"
    }
   ],
   "source": [
    "#[2]:\n",
    "l=[1,2,3,4,5,6,7,8,9,10]\n",
    "list(map(lambda x:x**2,l))"
   ]
  },
  {
   "cell_type": "code",
   "execution_count": 1,
   "id": "b1e8a602-8e99-4442-b250-d28d8e95cbea",
   "metadata": {},
   "outputs": [
    {
     "data": {
      "text/plain": [
       "('1', '2', '3', '4', '5', '6', '7', '8', '9', '10')"
      ]
     },
     "execution_count": 1,
     "metadata": {},
     "output_type": "execute_result"
    }
   ],
   "source": [
    "#[3]:\n",
    "l=[1,2,3,4,5,6,7,8,9,10]\n",
    "tuple(map(lambda l:str(l),l))"
   ]
  },
  {
   "cell_type": "code",
   "execution_count": 11,
   "id": "a5b8bfaa-b398-4101-8da3-063e7f3076c7",
   "metadata": {},
   "outputs": [],
   "source": [
    "#[4]:\n",
    "from functools import reduce"
   ]
  },
  {
   "cell_type": "code",
   "execution_count": 15,
   "id": "666a9a6d-4765-4be0-aacd-0f2906267f8f",
   "metadata": {},
   "outputs": [],
   "source": [
    "l=list(range(1,26))"
   ]
  },
  {
   "cell_type": "code",
   "execution_count": 16,
   "id": "bf197863-c0a9-4676-84b0-159bb044fb6a",
   "metadata": {},
   "outputs": [
    {
     "data": {
      "text/plain": [
       "[1,\n",
       " 2,\n",
       " 3,\n",
       " 4,\n",
       " 5,\n",
       " 6,\n",
       " 7,\n",
       " 8,\n",
       " 9,\n",
       " 10,\n",
       " 11,\n",
       " 12,\n",
       " 13,\n",
       " 14,\n",
       " 15,\n",
       " 16,\n",
       " 17,\n",
       " 18,\n",
       " 19,\n",
       " 20,\n",
       " 21,\n",
       " 22,\n",
       " 23,\n",
       " 24,\n",
       " 25]"
      ]
     },
     "execution_count": 16,
     "metadata": {},
     "output_type": "execute_result"
    }
   ],
   "source": [
    "l"
   ]
  },
  {
   "cell_type": "code",
   "execution_count": 17,
   "id": "2665a506-07c8-4165-83c8-a0caa39ae083",
   "metadata": {},
   "outputs": [
    {
     "data": {
      "text/plain": [
       "325"
      ]
     },
     "execution_count": 17,
     "metadata": {},
     "output_type": "execute_result"
    }
   ],
   "source": [
    "reduce(lambda x,y:x+y,l)"
   ]
  },
  {
   "cell_type": "code",
   "execution_count": 18,
   "id": "d64f0b4e-d449-4514-bddc-dbd71a9b3f49",
   "metadata": {},
   "outputs": [
    {
     "data": {
      "text/plain": [
       "[2, 3, 6, 9, 27, 60, 90, 120, 46]"
      ]
     },
     "execution_count": 18,
     "metadata": {},
     "output_type": "execute_result"
    }
   ],
   "source": [
    "#[5]:\n",
    "l=[2,3,6,9,27,60,90,120,55,46]\n",
    "list(filter(lambda l: l%2==0 or l%3==0 ,l))"
   ]
  },
  {
   "cell_type": "code",
   "execution_count": 19,
   "id": "66a97d29-5825-47d7-8c73-d7fb601c5654",
   "metadata": {},
   "outputs": [],
   "source": [
    "#[6]:\n",
    "l1=[\"python\",\"php\",\"aba\",\"radar\",\"level\"]"
   ]
  },
  {
   "cell_type": "code",
   "execution_count": 22,
   "id": "7069fdd9-7f61-43fd-b2db-f23d4cac475c",
   "metadata": {},
   "outputs": [
    {
     "name": "stdout",
     "output_type": "stream",
     "text": [
      "['php', 'aba', 'radar', 'level']\n"
     ]
    }
   ],
   "source": [
    "def pali(l1):\n",
    "    return l1==l1[::-1]\n",
    "l2=list(filter(pali,l1))\n",
    "print(l2)\n",
    "    "
   ]
  }
 ],
 "metadata": {
  "kernelspec": {
   "display_name": "Python 3 (ipykernel)",
   "language": "python",
   "name": "python3"
  },
  "language_info": {
   "codemirror_mode": {
    "name": "ipython",
    "version": 3
   },
   "file_extension": ".py",
   "mimetype": "text/x-python",
   "name": "python",
   "nbconvert_exporter": "python",
   "pygments_lexer": "ipython3",
   "version": "3.10.8"
  }
 },
 "nbformat": 4,
 "nbformat_minor": 5
}
