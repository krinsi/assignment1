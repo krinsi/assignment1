{
 "cells": [
  {
   "cell_type": "code",
   "execution_count": null,
   "id": "80b02638-43ee-44d3-bd3a-f1dd26b3c564",
   "metadata": {},
   "outputs": [],
   "source": [
    "#[1]:\n",
    "-Web scraping is used in a variety of digital businesses that rely on data harvesting.\n",
    "-Legitimate use cases include: Search engine bots crawling a site, analyzing its content and then ranking it.\n",
    "-Price comparison sites deploying bots to auto-fetch prices and product descriptions for allied seller websites."
   ]
  },
  {
   "cell_type": "code",
   "execution_count": null,
   "id": "783dbea9-ea77-41fc-8944-282a074e1b13",
   "metadata": {},
   "outputs": [],
   "source": [
    "#[2]:\n",
    "-Google Sheets is a popular tool for data scraping.\n",
    "-Scarpers can use the IMPORTXML function in Sheets to scrape from a website, which is useful if they want to extract a specific pattern\n",
    " or data from the website. This command also makes it possible to check if a website can be scraped or is protected."
   ]
  },
  {
   "cell_type": "code",
   "execution_count": null,
   "id": "78616d71-f337-4bfa-8195-92f88b795aa8",
   "metadata": {},
   "outputs": [],
   "source": [
    "#[3]:\n",
    "-Beautiful Soup is a Python package for parsing HTML and XML documents \n",
    "(including having malformed markup, i.e. non-closed tags, so named after tag soup). \n",
    "-It creates a parse tree for parsed pages that can be used to extract data from HTML, which is useful for web scraping."
   ]
  },
  {
   "cell_type": "code",
   "execution_count": null,
   "id": "66f60d7b-cae8-4ad4-8189-12d229dd13ca",
   "metadata": {},
   "outputs": [],
   "source": [
    "#[4]:\n",
    "-Flask is a lightweight framework to build websites.\n",
    "-We will use this to parse our collected data and display it as HTML in a new HTML file.\n",
    "-The requests module allows us to send http requests to the website we want to scrape. \n",
    "-The first line imports the Flask class and the render_template method from the flask library."
   ]
  },
  {
   "cell_type": "code",
   "execution_count": null,
   "id": "6ffc2ae2-b761-4f43-9267-95a5b41f37a0",
   "metadata": {},
   "outputs": [],
   "source": [
    "#[5]:\n",
    "-SDK for python:\n",
    "    \n",
    "    Simpliﬁes use of AWS services by providing a set of libraries that are consistent and familiar for Python developers.\n",
    "\n",
    "    \n",
    "-AWS IDE Toolkits:\n",
    "    \n",
    "    Use popular Integrated Development Environments (IDEs) to author, debug, and deploy your code on AWS.\n",
    "\n",
    "    \n",
    "-AWS CDK for python:\n",
    "\n",
    "    Use the AWS Cloud Development Kit (CDK) for your Infrastructure as Code with Python.\n",
    "\n",
    "-AWS loT SDK for python:\n",
    "    \n",
    "    Access AWS IoT using MQTT or MQTT over the WebSocket protocol from Python.\n"
   ]
  }
 ],
 "metadata": {
  "kernelspec": {
   "display_name": "Python 3 (ipykernel)",
   "language": "python",
   "name": "python3"
  },
  "language_info": {
   "codemirror_mode": {
    "name": "ipython",
    "version": 3
   },
   "file_extension": ".py",
   "mimetype": "text/x-python",
   "name": "python",
   "nbconvert_exporter": "python",
   "pygments_lexer": "ipython3",
   "version": "3.10.8"
  }
 },
 "nbformat": 4,
 "nbformat_minor": 5
}
