{
 "cells": [
  {
   "cell_type": "code",
   "execution_count": null,
   "id": "7ae35b52-fa93-44be-8fa0-c9f733fd16b4",
   "metadata": {},
   "outputs": [],
   "source": [
    "#[q-1]:\n",
    "-Estimation statistics is a branch of statistics that deals with estimating population parameters (such as mean, variance, proportion, etc.) \n",
    "based on a sample of data.\n",
    "-In estimation statistics, we use a sample of data to make inferences about the larger population from which the sample was drawn.\n",
    "\n",
    "-There are two types of estimation in statistics: point estimation and interval estimation.\n",
    "\n",
    "-Point estimation involves using a single value (a point) to estimate an unknown population parameter.\n",
    "-For example, if we want to estimate the mean height of all adults in a certain country, we might take a sample of 100 adults and calculate the sample\n",
    "mean.\n",
    "-We could then use this sample mean as a point estimate for the population mean height.\n",
    "\n",
    "-Interval estimation, on the other hand, involves using a range of values (an interval) to estimate an unknown population parameter.\n",
    "-For example, if we want to estimate the mean height of all adults in a certain country, we might take a sample of 100 adults and calculate the sample \n",
    "mean, as well as the standard deviation of the sample. \n",
    "-Using this information, we could construct a confidence interval around the sample mean that would give us a range of likely values for the \n",
    "population mean height. \n",
    "-The confidence interval provides an interval estimate for the population parameter."
   ]
  },
  {
   "cell_type": "code",
   "execution_count": null,
   "id": "4676ac98-09fa-4491-8331-6361b9b3d3b5",
   "metadata": {},
   "outputs": [],
   "source": [
    "#[q-2]:\n",
    "def estimate_population_mean(sample_mean, sample_std, sample_size):\n",
    "    # calculate the standard error of the mean\n",
    "    std_error_mean = sample_std / (sample_size ** 0.5)\n",
    "    \n",
    "    # calculate the margin of error using a 95% confidence level\n",
    "    margin_of_error = 1.96 * std_error_mean\n",
    "    \n",
    "    # calculate the lower and upper bounds of the confidence interval\n",
    "    lower_bound = sample_mean - margin_of_error\n",
    "    upper_bound = sample_mean + margin_of_error\n",
    "    \n",
    "    # return the estimated population mean and confidence interval\n",
    "    return (sample_mean, lower_bound, upper_bound)"
   ]
  },
  {
   "cell_type": "code",
   "execution_count": null,
   "id": "382ba624-7283-4308-8016-6d7282c92192",
   "metadata": {},
   "outputs": [],
   "source": [
    "#[q-3]:\n",
    "-Hypothesis testing is a statistical method used to make decisions or inferences about a population based on a sample.\n",
    "-It involves testing a claim or hypothesis about a population parameter, using data from a sample, to determine the likelihood of the claim being true.\n",
    "\n",
    "-The hypothesis testing process involves two competing hypotheses: the null hypothesis (H0) and the alternative hypothesis (Ha). \n",
    "-The null hypothesis is the hypothesis that there is no significant difference between a sample statistic and the population parameter, \n",
    "while the alternative hypothesis is the hypothesis that there is a significant difference.\n",
    "\n",
    "-Hypothesis testing is used to make informed decisions and draw conclusions about a population based on a sample.\n",
    "-It is commonly used in various fields such as business, finance, health sciences, social sciences, and engineering to test claims and validate \n",
    "theories.\n",
    "\n",
    "-The importance of hypothesis testing lies in the fact that it provides a rigorous and systematic approach to making decisions based on data. \n",
    "-It helps to determine the reliability of results, identify potential errors or biases, and provide evidence for or against a claim. "
   ]
  },
  {
   "cell_type": "code",
   "execution_count": null,
   "id": "7a07d33a-f4e3-4b7b-9761-2a4dd07d1d2d",
   "metadata": {},
   "outputs": [],
   "source": [
    "#[q-4]:\n",
    "Null Hypothesis (H0): The average weight of male college students is not greater than the average weight of female college students or is equal to it.\n",
    "\n",
    "Alternative Hypothesis (Ha): The average weight of male college students is greater than the average weight of female college students.\n",
    "\n",
    "Symbolically, the null and alternative hypothesis can be represented as:\n",
    "\n",
    "H0: μmale <= μfemale\n",
    "Ha: μmale > μfemale\n",
    "\n",
    "Where μmale is the population mean weight of male college students and μfemale is the population mean weight of female college students.\n",
    "\n",
    "To test this hypothesis, we would need to collect a sample of weights from both male and female college students, calculate their respective \n",
    "sample means and standard deviations, and perform a statistical test such as a t-test or z-test to determine whether the difference between the \n",
    "sample means is statistically significant or not."
   ]
  },
  {
   "cell_type": "code",
   "execution_count": null,
   "id": "f8f31ac4-ba94-4bab-8ea6-1624dde40635",
   "metadata": {},
   "outputs": [],
   "source": [
    "#[q-5]:\n",
    "import numpy as np\n",
    "from scipy.stats import t\n",
    "\n",
    "alpha = 0.05\n",
    "\n",
    "sample1 = np.array([5.6, 7.2, 6.3, 8.1, 9.2, 6.5, 7.8, 5.9, 8.4, 7.1])\n",
    "\n",
    "sample2 = np.array([4.5, 6.1, 5.2, 7.0, 8.1, 5.4, 6.7, 4.8, 7.3, 6.0])\n",
    "\n",
    "mean1 = np.mean(sample1)\n",
    "mean2 = np.mean(sample2)\n",
    "\n",
    "std2 = np.std(sample2, ddof=1)\n",
    "\n",
    "df = len(sample1) + len(sample2) - 2\n",
    "\n",
    "std_error = np.sqrt((std1**2/len(sample1)) + (std2**2/len(sample2)))\n",
    "\n",
    "t_stat = (mean1 - mean2) / std_error\n",
    "\n",
    "t_crit = t.ppf(1 - alpha/2, df)\n",
    "\n",
    "p_val = 2 * (1 - t.cdf(abs(t_stat), df))\n",
    "\n",
    "print(\"Sample 1 Mean:\", mean1)\n",
    "print(\"Sample 2 Mean:\", mean2)\n",
    "print(\"Sample 1 Standard Deviation:\", std1)\n",
    "print(\"Sample 2 Standard Deviation:\", std2)\n",
    "print(\"Degrees of Freedom:\", df)\n",
    "print(\"Standard Error of the Difference:\", std_error)\n",
    "print(\"T-Statistic:\", t_stat)\n",
    "print(\"Critical Value:\", t_crit)\n",
    "print(\"P-Value:\", p_val)\n",
    "\n",
    "if p_val < alpha:\n",
    "    print(\"Reject the null hypothesis. There is evidence to suggest that the difference between the population means is statistically significant.\")\n",
    "else:\n",
    "    print(\"Fail to reject the null hypothesis. There is not enough evidence to suggest that the difference between the population means is \n",
    "          statistically significant.\")\n"
   ]
  },
  {
   "cell_type": "code",
   "execution_count": null,
   "id": "f0a12c26-4e7b-4879-8bb6-462938c185ab",
   "metadata": {},
   "outputs": [],
   "source": [
    "#[q-6]:\n",
    "-statistics, the null hypothesis (H0) is a statement or assumption about a population parameter that is being tested for significance. \n",
    "-The alternative hypothesis (Ha) is a competing hypothesis that asserts that there is a significant difference between the sample statistic and \n",
    "the population parameter.\n",
    "\n",
    "-Null Hypothesis (H0):\n",
    "    The population mean weight of male college students is less than or equal to the population mean weight of female college students.\n",
    "-Alternative Hypothesis (Ha):\n",
    "    The population mean weight of male college students is greater than the population mean weight of female college students."
   ]
  },
  {
   "cell_type": "code",
   "execution_count": null,
   "id": "257500f3-d7a3-4bc0-b383-13308e60f61a",
   "metadata": {},
   "outputs": [],
   "source": [
    "#[q-7]:\n",
    "The following are the steps involved in hypothesis testing:\n",
    "\n",
    "1.State the null and alternative hypotheses:\n",
    "-The null hypothesis (H0) is the statement being tested and assumes that there is no significant difference or relationship between the sample \n",
    "statistic and population parameter.\n",
    "\n",
    "2.Determine the level of significance (alpha):\n",
    "\n",
    "The level of significance (alpha) is the probability of rejecting the null hypothesis when it is actually true. \n",
    "It is usually set at 0.05 or 0.01, which means that the researcher is willing to accept a 5% or 1% chance of making a type I error.\n",
    "\n",
    "3.Choose the appropriate test statistic:\n",
    "\n",
    "The test statistic is a value that is calculated from the sample data and is used to test the null hypothesis. \n",
    "The choice of test statistic depends on the type of data being analyzed and the research question being asked.\n",
    "\n",
    "4.Set up the decision rule:\n",
    "\n",
    "-The decision rule specifies the critical region or rejection region, which is the range of values that the test statistic must fall within to reject\n",
    "the null hypothesis.\n",
    "\n",
    "5.Calculate the test statistic:\n",
    "\n",
    "The test statistic is calculated using the sample data and the appropriate formula or table."
   ]
  },
  {
   "cell_type": "code",
   "execution_count": null,
   "id": "dcb8ab31-e5e4-4e5b-a352-05aa5f0b3b09",
   "metadata": {},
   "outputs": [],
   "source": [
    "#[q-8]:\n",
    "-hypothesis testing, the p-value is the probability of observing a test statistic as extreme or more extreme than the one observed, assuming that \n",
    "the null hypothesis is true. \n",
    "-The p-value is a measure of the strength of evidence against the null hypothesis.\n",
    "\n",
    "-If the p-value is less than or equal to the level of significance (alpha), then the null hypothesis is rejected in favor of the alternative\n",
    "hypothesis.\n",
    "-This means that there is strong evidence against the null hypothesis and that the observed effect is unlikely to be due to chance.\n",
    "\n",
    "-If the p-value is greater than the level of significance, then the null hypothesis is not rejected. \n",
    "-This means that there is not enough evidence to reject the null hypothesis and that the observed effect could be due to chance."
   ]
  },
  {
   "cell_type": "code",
   "execution_count": 1,
   "id": "e433c9c8-eda8-49c3-b450-211f5e522b4b",
   "metadata": {},
   "outputs": [
    {
     "data": {
      "image/png": "[encoded data removed]",
      "text/plain": [
       "<Figure size 640x480 with 1 Axes>"
      ]
     },
     "metadata": {},
     "output_type": "display_data"
    }
   ],
   "source": [
    "#[q-9]:\n",
    "import numpy as np\n",
    "import matplotlib.pyplot as plt\n",
    "df = 10\n",
    "\n",
    "x = np.linspace(-4, 4, 500)\n",
    "\n",
    "y = (1 / np.sqrt(df * np.pi)) * (np.exp(-(x ** 2) / df)) * (np.exp(np.log(np.abs(x)) - np.log(df)) - np.exp(np.log(np.abs(x)) + np.log(df)))\n",
    "\n",
    "plt.plot(x, y)\n",
    "\n",
    "plt.xlabel('x')\n",
    "plt.ylabel('Probability density')\n",
    "plt.title('Student\\'s t-distribution (df=10)')\n",
    "\n",
    "plt.show()\n"
   ]
  },
  {
   "cell_type": "code",
   "execution_count": 2,
   "id": "6f4c0592-6820-4843-bf5f-ae88f10d8d6c",
   "metadata": {},
   "outputs": [
    {
     "name": "stdout",
     "output_type": "stream",
     "text": [
      "T-Statistic: -7.345617402554677\n",
      "P-Value: 5.2288952802613935e-12\n"
     ]
    }
   ],
   "source": [
    "#[q-10]:\n",
    "import numpy as np\n",
    "from scipy.stats import ttest_ind\n",
    "\n",
    "# Generate two random samples\n",
    "sample1 = np.random.normal(10, 2, 100)\n",
    "sample2 = np.random.normal(12, 2, 100)\n",
    "\n",
    "# Calculate the t-statistic and p-value using the ttest_ind function from scipy.stats\n",
    "t_statistic, p_value = ttest_ind(sample1, sample2)\n",
    "\n",
    "# Print the results\n",
    "print(\"T-Statistic:\", t_statistic)\n",
    "print(\"P-Value:\", p_value)\n"
   ]
  },
  {
   "cell_type": "code",
   "execution_count": null,
   "id": "5e072501-930c-472a-b30c-91f63d190ea0",
   "metadata": {},
   "outputs": [],
   "source": [
    "#[q-11]:\n",
    "\n",
    "-Student’s t-distribution is a probability distribution that is used in statistical inference for testing hypotheses and constructing confidence \n",
    "intervals about the population mean when the sample size is small and/or the population standard deviation is unknown.\n",
    "\n",
    "The t-distribution is typically used when:\n",
    "\n",
    "1.The sample size is small (i.e., less than 30) and the population standard deviation is unknown.\n",
    "\n",
    "2.The population is normally distributed, but the sample size is large and the population standard deviation is unknown.\n",
    "\n",
    "3.The sample size is large, but the population is not normally distributed, and the sample standard deviation is used as an estimate of the \n",
    "population standard deviation."
   ]
  },
  {
   "cell_type": "code",
   "execution_count": null,
   "id": "cc39a86e-9937-4cda-a99c-9292fd7a79a9",
   "metadata": {},
   "outputs": [],
   "source": [
    "#[q-12]:\n",
    "-In statistics, t-statistic is a measure of how many standard errors a sample mean is away from the hypothesized population mean.\n",
    "-It is used in hypothesis testing to determine whether the difference between two sample means is statistically significant or due to chance.\n",
    "\n",
    "-The formula for the t-statistic is:\n",
    "\n",
    "t = (x1 - x2) / (s * sqrt(2/n))\n",
    "\n",
    "Where:\n",
    "\n",
    "x1 and x2 are the sample means of the two samples being compared\n",
    "s is the pooled standard deviation of the two samples\n",
    "n is the sample size for each group\n",
    "The t-statistic measures the difference between the means of two groups relative to the variation within the groups. \n",
    "If the t-value is large, it suggests that the difference between the two means is significant and not due to chance.\n",
    "Conversely, if the t-value is small, it suggests that the difference between the two means is not significant and could be due to chance."
   ]
  },
  {
   "cell_type": "code",
   "execution_count": null,
   "id": "6ff07364-45b9-486e-9228-49c880c4db0c",
   "metadata": {},
   "outputs": [],
   "source": [
    "#[q-13]:\n",
    "CI = x̄ ± tα/2 * (s/√n)\n",
    "\n",
    "where:\n",
    "\n",
    "x̄ is the sample mean revenue\n",
    "s is the sample standard deviation\n",
    "n is the sample size (number of days)\n",
    "tα/2 is the t-value for the desired confidence level and degrees of freedom (df = n - 1)\n",
    "Since we want a 95% confidence interval, the level of significance (α) is 0.05/2 = 0.025 (dividing by 2 since it is a two-tailed test). \n",
    "Using a t-distribution table with 49 degrees of freedom (50-1), we can find the t-value for α/2 = 0.025, which is approximately 2.009.\n",
    "\n",
    "Substituting the values into the formula, we get:\n",
    "\n",
    "CI = 500 ± 2.009 * (50/√50) = (490.04, 509.96)\n",
    "\n",
    "Therefore, we can be 95% confident that the population mean revenue is between $490.04 and $509.96 based on the sample data.\n"
   ]
  },
  {
   "cell_type": "code",
   "execution_count": null,
   "id": "2ee38859-dc16-46e5-955d-8d86c3330c91",
   "metadata": {},
   "outputs": [],
   "source": [
    "#[q-14]:\n",
    "Null hypothesis: The true mean decrease in blood pressure is equal to 10 mmHg (μ = 10)\n",
    "Alternative hypothesis: The true mean decrease in blood pressure is less than 10 mmHg (μ < 10)\n",
    "We can calculate the test statistic (t-value) using the formula:\n",
    "\n",
    "t = (x̄ - μ) / (s / sqrt(n))\n",
    "\n",
    "Substituting the given values, we get:\n",
    "\n",
    "t = (8 - 10) / (3 / sqrt(100)) = -4.47\n",
    "\n",
    "-Using a t-distribution table with 99 degrees of freedom (n-1), we can find the critical t-value for a one-tailed test with a significance level \n",
    "of 0.05, which is approximately -1.66. \n",
    "-Since our calculated t-value (-4.47) is less than the critical t-value (-1.66), we can reject the null hypothesis and conclude that the true mean \n",
    "decrease in blood pressure is less than 10 mmHg.\n",
    "\n",
    "-Therefore, we can infer that the new drug does not decrease blood pressure by 10 mmHg, and further studies or modifications may be needed."
   ]
  },
  {
   "cell_type": "code",
   "execution_count": null,
   "id": "3b174afb-faed-4697-a470-2fef82d47655",
   "metadata": {},
   "outputs": [],
   "source": [
    "#[q-15]:\n",
    "To test the hypothesis that the true mean weight of the products is less than 5 pounds with a significance level of 0.01, \n",
    "we can use a one-sample t-test with the following null and alternative hypotheses:\n",
    "\n",
    "Null hypothesis: The true mean weight of the products is equal to 5 pounds (μ = 5)\n",
    "Alternative hypothesis: The true mean weight of the products is less than 5 pounds (μ < 5)\n",
    "We can calculate the test statistic (t-value) using the formula:\n",
    "\n",
    "t = (x̄ - μ) / (s / sqrt(n))\n",
    "\n",
    "where:\n",
    "\n",
    "x̄ is the sample mean weight\n",
    "μ is the hypothesized population mean weight (5 pounds)\n",
    "s is the sample standard deviation\n",
    "n is the sample size (number of products)\n",
    "Substituting the given values, we get:\n",
    "\n",
    "t = (4.8 - 5) / (0.5 / sqrt(25)) = -2.0\n",
    "\n",
    "-Using a t-distribution table with 24 degrees of freedom (n-1), we can find the critical t-value for a one-tailed test with a significance level of\n",
    "0.01, which is approximately -2.492. \n",
    "-Since our calculated t-value (-2.0) is greater than the critical t-value (-2.492), we fail to reject the null hypothesis and cannot conclude that \n",
    "the true mean weight of the products is less than 5 pounds with a significance level of 0.01.\n",
    "\n",
    "-Therefore, we can infer that there is insufficient evidence to suggest that the mean weight of the products is less than 5 pounds,\n",
    "based on the given sample data."
   ]
  },
  {
   "cell_type": "code",
   "execution_count": null,
   "id": "64fc44f2-d20a-48b5-bad9-008ed242942f",
   "metadata": {},
   "outputs": [],
   "source": [
    "#[q-16]:\n"
   ]
  },
  {
   "cell_type": "code",
   "execution_count": null,
   "id": "d0589e10-8ee8-49e6-af97-f20d9d49df99",
   "metadata": {},
   "outputs": [],
   "source": []
  },
  {
   "cell_type": "code",
   "execution_count": null,
   "id": "00bc802f-6d79-457f-8775-764a8bb45065",
   "metadata": {},
   "outputs": [],
   "source": []
  }
 ],
 "metadata": {
  "kernelspec": {
   "display_name": "Python 3 (ipykernel)",
   "language": "python",
   "name": "python3"
  },
  "language_info": {
   "codemirror_mode": {
    "name": "ipython",
    "version": 3
   },
   "file_extension": ".py",
   "mimetype": "text/x-python",
   "name": "python",
   "nbconvert_exporter": "python",
   "pygments_lexer": "ipython3",
   "version": "3.10.8"
  }
 },
 "nbformat": 4,
 "nbformat_minor": 5
}
