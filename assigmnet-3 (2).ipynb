{
 "cells": [
  {
   "cell_type": "code",
   "execution_count": null,
   "id": "da0f1529-57fc-4fcf-a2e8-d71156468560",
   "metadata": {},
   "outputs": [],
   "source": [
    "#[1]\n",
    "*while loop:\n",
    "-Python while loop is used to run a bloak code until a certain condition is met.\n",
    "-the syntex of while loop is\n",
    "    While condition:\n",
    "        #body of while loop\n",
    "-A while loop evaluates the condition.\n",
    "-If the condition evalutes to true,the code inside the while loop is executed.\n",
    "-when condition evaluates to fale=se,the loop stops,\n",
    "-Example:\n",
    "    -program to display numbers from 1 to 5\n",
    "    i=1\n",
    "    n=5\n",
    "    while i<=n:\n",
    "        print(i)\n",
    "        i=i+1\n",
    "        \n",
    "        \n",
    "*for loop:\n",
    "-Afor loop is used for iteration over a seqence .\n",
    "-with the for loop we can execute a set of statement,once for each item in a list,tuple,set etc,.\n",
    "-example:\n",
    "    fruits=['banana','apple','orange','mango']\n",
    "    for i in fruits:\n",
    "        print(x)\n",
    "        "
   ]
  },
  {
   "cell_type": "code",
   "execution_count": 30,
   "id": "5cd02ea7-9580-4e37-af2a-beee6d66d2ad",
   "metadata": {},
   "outputs": [
    {
     "data": {
      "text/plain": [
       "55"
      ]
     },
     "execution_count": 30,
     "metadata": {},
     "output_type": "execute_result"
    }
   ],
   "source": [
    "#[2]\n",
    "#for loop:\n",
    "#n=int(input(\"enter limit\"))\n",
    "s=(1,2,3,4,5,6,7,8,9,10)\n",
    "sum=0\n",
    "for i in s:\n",
    "      sum=sum+i\n",
    "sum"
   ]
  },
  {
   "cell_type": "code",
   "execution_count": 1,
   "id": "e5295f94-31be-4378-9fc1-06a8c6339413",
   "metadata": {},
   "outputs": [
    {
     "data": {
      "text/plain": [
       "55"
      ]
     },
     "execution_count": 1,
     "metadata": {},
     "output_type": "execute_result"
    }
   ],
   "source": [
    "#[2]\n",
    "#while loop:\n",
    "sum=0\n",
    "i=1\n",
    "while i<=10:\n",
    "    sum=sum+i\n",
    "    i=i+1\n",
    "sum\n"
   ]
  },
  {
   "cell_type": "code",
   "execution_count": null,
   "id": "40e26fc8-c338-4d1b-80a8-3ae944be2035",
   "metadata": {},
   "outputs": [],
   "source": [
    "#[3]\n",
    "unit=int(input(\"enter unit for electricity\"))\n",
    "charge=0\n",
    "if unit<=100:\n",
    "    charge=4.5*unit\n",
    "elif unit>100 and unit<=200:\n",
    "    charge=6*unit\n",
    "elif unit >200 and unit<=300:\n",
    "    charge=10*unit\n",
    "elif unit>300:\n",
    "    charge=20*unit\n",
    "print(charge)"
   ]
  },
  {
   "cell_type": "code",
   "execution_count": 2,
   "id": "d5c1e9d9-5554-43f0-a1b6-83c85d3b0d75",
   "metadata": {},
   "outputs": [
    {
     "name": "stdout",
     "output_type": "stream",
     "text": [
      "[2, 4, 5, 6, 8, 10, 12, 14, 15, 16, 18, 20, 22, 24, 25, 26, 28, 30, 32, 34, 35, 36, 38, 40, 42, 44, 45, 46, 48, 50, 52, 54, 55, 56, 58, 60, 62, 64, 65, 66, 68, 70, 72, 74, 75, 76, 78, 80, 82, 84, 85, 86, 88, 90, 92, 94, 95, 96, 98, 100]\n"
     ]
    }
   ],
   "source": [
    "#[4]\n",
    "a_list=[]\n",
    "count=0\n",
    "for i in range(1,101):\n",
    "    cube=(i**3)\n",
    "    if cube%4==0 or cube%5==0:\n",
    "        a_list.append(i)\n",
    "print(a_list)\n",
    "        "
   ]
  },
  {
   "cell_type": "code",
   "execution_count": 3,
   "id": "ac4b842b-5dda-4bbf-9cd7-64d6dd3435a6",
   "metadata": {},
   "outputs": [],
   "source": [
    "#[5]\n",
    "s1=\"I want to become data scientist\""
   ]
  },
  {
   "cell_type": "code",
   "execution_count": 4,
   "id": "5e5f4b54-9778-4462-9e08-56c0c0758e68",
   "metadata": {},
   "outputs": [
    {
     "data": {
      "text/plain": [
       "'I want to become data scientist'"
      ]
     },
     "execution_count": 4,
     "metadata": {},
     "output_type": "execute_result"
    }
   ],
   "source": [
    "s1"
   ]
  },
  {
   "cell_type": "code",
   "execution_count": 6,
   "id": "336f9202-217a-4fa2-91fd-9f2147933074",
   "metadata": {},
   "outputs": [
    {
     "name": "stdout",
     "output_type": "stream",
     "text": [
      "10\n"
     ]
    }
   ],
   "source": [
    "count=0\n",
    "for i in s1:\n",
    "    if i=='a' or i=='e' or i=='i' or i=='o' or i=='u':\n",
    "        count=count+1\n",
    "print(count)\n",
    "    "
   ]
  },
  {
   "cell_type": "code",
   "execution_count": null,
   "id": "acf4474a-b097-44e4-ba1e-913850bc1be0",
   "metadata": {},
   "outputs": [],
   "source": []
  }
 ],
 "metadata": {
  "kernelspec": {
   "display_name": "Python 3 (ipykernel)",
   "language": "python",
   "name": "python3"
  },
  "language_info": {
   "codemirror_mode": {
    "name": "ipython",
    "version": 3
   },
   "file_extension": ".py",
   "mimetype": "text/x-python",
   "name": "python",
   "nbconvert_exporter": "python",
   "pygments_lexer": "ipython3",
   "version": "3.10.8"
  }
 },
 "nbformat": 4,
 "nbformat_minor": 5
}
