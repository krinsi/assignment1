{
 "cells": [
  {
   "cell_type": "code",
   "execution_count": 1,
   "id": "92ccc37e-a88e-4050-bcbc-fb4f022abc8f",
   "metadata": {},
   "outputs": [],
   "source": [
    "#[1]:\n",
    "\n",
    "def product_of_numbers(lst):\n",
    "    flat_lst = flatten(lst)\n",
    "    num_lst = [n for n in flat_lst if isinstance(n, (int, float))]\n",
    "    return prod(num_lst)"
   ]
  },
  {
   "cell_type": "code",
   "execution_count": 2,
   "id": "c2a44bb4-7fe9-46c9-a5af-cfab4a429faf",
   "metadata": {},
   "outputs": [],
   "source": [
    "from collections.abc import Iterable\n",
    "from math import prod\n",
    "\n",
    "def flatten(lst):\n",
    "    for item in lst:\n",
    "        if isinstance(item, Iterable) and not isinstance(item, (str, bytes)):\n",
    "            yield from flatten(item)\n",
    "        else:\n",
    "            yield item"
   ]
  },
  {
   "cell_type": "code",
   "execution_count": 3,
   "id": "99793f57-9b7d-459b-a6a7-4967b5dbb2b1",
   "metadata": {},
   "outputs": [
    {
     "name": "stdout",
     "output_type": "stream",
     "text": [
      "0\n"
     ]
    }
   ],
   "source": [
    "list1 = [1,2,3,4, [44,55,66, True], False, (34,56,78,89,34), {1,2,3,3,2,1}, {1:34, \"key2\": [55, 67, 78, 89], 4: (45, 22, 61, 34)}, \n",
    "         [56, 'data science'], 'Machine Learning']\n",
    "\n",
    "product = product_of_numbers(list1)\n",
    "print(product) "
   ]
  },
  {
   "cell_type": "code",
   "execution_count": 4,
   "id": "8d9c2a40-e26b-4ab2-b2d5-3351cd19ac11",
   "metadata": {},
   "outputs": [
    {
     "name": "stdout",
     "output_type": "stream",
     "text": [
      "$dzmg$gl$yvxlnv$z$zgz$xrvmgrhg.\n"
     ]
    }
   ],
   "source": [
    "#[2]:\n",
    "def encrypt(message):\n",
    "    output = ''\n",
    "    for char in message:\n",
    "        if char.isalpha():\n",
    "            output += chr(219 - ord(char))\n",
    "        elif char == ' ':\n",
    "            output += '$'\n",
    "        else:\n",
    "            output += char\n",
    "    return output\n",
    "\n",
    "message = \"I want to become a Data Scientist.\"\n",
    "encrypted_message = encrypt(message)\n",
    "print(encrypted_message)\n"
   ]
  },
  {
   "cell_type": "code",
   "execution_count": null,
   "id": "6b0c052e-6f13-4e4e-bfc5-be715bbb2197",
   "metadata": {},
   "outputs": [],
   "source": []
  }
 ],
 "metadata": {
  "kernelspec": {
   "display_name": "Python 3 (ipykernel)",
   "language": "python",
   "name": "python3"
  },
  "language_info": {
   "codemirror_mode": {
    "name": "ipython",
    "version": 3
   },
   "file_extension": ".py",
   "mimetype": "text/x-python",
   "name": "python",
   "nbconvert_exporter": "python",
   "pygments_lexer": "ipython3",
   "version": "3.10.8"
  }
 },
 "nbformat": 4,
 "nbformat_minor": 5
}
